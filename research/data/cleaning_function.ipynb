{
 "cells": [
  {
   "cell_type": "code",
   "execution_count": 1,
   "metadata": {},
   "outputs": [],
   "source": [
    "import re\n",
    "import spacy\n",
    "import pandas as pd\n",
    "import emoji as emo\n",
    "\n",
    "nlp = spacy.load(\"en_core_web_sm\", disable=['parser', 'ner'])\n",
    "all_stopwords = nlp.Defaults.stop_words"
   ]
  },
  {
   "cell_type": "code",
   "execution_count": 2,
   "metadata": {},
   "outputs": [],
   "source": [
    "def clean_tweet(tweet, emojis=True) -> str:\n",
    "\n",
    "# This is the noise-list\n",
    "    filter_list = [\"@USER\",             # -> remove '@USER'\n",
    "                    \"CORRECTION:\",      # -> remove 'CORRECTION:\n",
    "                    \"URL\",              # -> remove URL\n",
    "                    \"#.+\",              # -> remove hashtags\n",
    "    ]\n",
    "\n",
    "    # Clean based on regex-rules\n",
    "    regex_clean_tweet = []\n",
    "    for word in tweet.split():\n",
    "        for item in filter_list:\n",
    "            word = re.sub(f\"{item}\", \"\", word)\n",
    "        if len(word) > 0:\n",
    "            regex_clean_tweet.append(word)\n",
    "    tweet = \" \".join(regex_clean_tweet)\n",
    "\n",
    "    if emojis:\n",
    "        for word in tweet.split():\n",
    "            for char in word:\n",
    "                if emo.is_emoji(char):\n",
    "                    emoji = char.strip()\n",
    "                    tweet = tweet.replace(emoji, f' {\"\".join([char for char in emo.demojize(emoji) if char.isalpha()])} ')\n",
    "\n",
    "    # Clean by lemmatizing\n",
    "    tokens = nlp(tweet.lower())\n",
    "    lemm_text = [word.lemma_ for word in tokens]\n",
    "    no_stopwords = [word for word in lemm_text if word not in all_stopwords]\n",
    "    alpha = [word for word in no_stopwords if word.isalpha()]\n",
    "    clean_string = \" \".join(alpha)\n",
    "    \n",
    "    return clean_string"
   ]
  }
 ],
 "metadata": {
  "interpreter": {
   "hash": "829d53f556d0b7c6dbfc883bb224ba154b9e68ce0947216c441529e262e7193d"
  },
  "kernelspec": {
   "display_name": "Python 3.9.7 ('st')",
   "language": "python",
   "name": "python3"
  },
  "language_info": {
   "codemirror_mode": {
    "name": "ipython",
    "version": 3
   },
   "file_extension": ".py",
   "mimetype": "text/x-python",
   "name": "python",
   "nbconvert_exporter": "python",
   "pygments_lexer": "ipython3",
   "version": "3.9.7"
  },
  "orig_nbformat": 4
 },
 "nbformat": 4,
 "nbformat_minor": 2
}
