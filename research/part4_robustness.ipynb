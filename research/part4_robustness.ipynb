{
 "cells": [
  {
   "cell_type": "code",
   "execution_count": 1,
   "metadata": {},
   "outputs": [],
   "source": [
    "#       ___                       ___           ___           ___                         ___     \n",
    "#      /  /\\          ___        /  /\\         /  /\\         /  /\\                       /__/\\    \n",
    "#     /  /:/_        /  /\\      /  /:/_       /  /:/_       /  /::\\                     |  |::\\   \n",
    "#    /  /:/ /\\      /  /:/     /  /:/ /\\     /  /:/ /\\     /  /:/\\:\\    ___     ___     |  |:|:\\  \n",
    "#   /  /:/ /::\\    /  /:/     /  /:/ /:/_   /  /:/_/::\\   /  /:/  \\:\\  /__/\\   /  /\\  __|__|:|\\:\\ \n",
    "#  /__/:/ /:/\\:\\  /  /::\\    /__/:/ /:/ /\\ /__/:/__\\/\\:\\ /__/:/ \\__\\:\\ \\  \\:\\ /  /:/ /__/::::| \\:\\\n",
    "#  \\  \\:\\/:/~/:/ /__/:/\\:\\   \\  \\:\\/:/ /:/ \\  \\:\\ /~~/:/ \\  \\:\\ /  /:/  \\  \\:\\  /:/  \\  \\:\\~~\\__\\/\n",
    "#   \\  \\::/ /:/  \\__\\/  \\:\\   \\  \\::/ /:/   \\  \\:\\  /:/   \\  \\:\\  /:/    \\  \\:\\/:/    \\  \\:\\      \n",
    "#    \\__\\/ /:/        \\  \\:\\   \\  \\:\\/:/     \\  \\:\\/:/     \\  \\:\\/:/      \\  \\::/      \\  \\:\\     \n",
    "#      /__/:/          \\__\\/    \\  \\::/       \\  \\::/       \\  \\::/        \\__\\/        \\  \\:\\    \n",
    "#      \\__\\/                     \\__\\/         \\__\\/         \\__\\/                       \\__\\/    \n",
    "#                       Made by: Hd0/Hariama | #PART4: ROBUSTNESS\n",
    "\n",
    "# Finally, now that we know we can stably save an entire book in are target\n",
    "# model weights, encrypted even to make the hidden characters resistant to\n",
    "# static analysis, we need to see how well the characters are saved after\n",
    "# defensive measures. One method evident method is to prune the weights, as\n",
    "# 32-bit floats are (not necessarily) needed. Often, this amount of precision is\n",
    "# too much, however, we already bypassed this by using the most significant bits\n",
    "# of the mantissa. Another way is to simply fine-tune the model. Here we'll try\n",
    "# this out to see what 1 epoch of training does to our text after all the\n",
    "# previous steps (ref., I expect it to break completely, without the WES-based\n",
    "# attack-method I researched for my MA-thesis) \n",
    "\n",
    "# We'll first have to load in the model like last time. I'll leave the code to\n",
    "# start out with in such a way that if this is the first Jupyter notebook that\n",
    "# you run in this series, it will build the clean model first (or load it if you\n",
    "# already trained it before)\n",
    "\n",
    "# Load in all the necessary libraries. Don't forget to run the requirements.txt\n",
    "# file with conda to actually install all these packages. You can do this with\n",
    "# conda install --file requirements.txt\n",
    "\n",
    "# General packages for ML\n",
    "import pandas as pd\n",
    "import torch\n",
    "import numpy as np\n",
    "import matplotlib.pyplot as plt\n",
    "from sklearn.metrics import classification_report\n",
    "import seaborn as sn\n",
    "\n",
    "# Little hacky way to present Collab-esque TQDM-loading in VSCode\n",
    "import tqdm.notebook\n",
    "import sys\n",
    "sys.modules[\"tqdm.auto\"] = tqdm.notebook\n",
    "\n",
    "# A check to see if cuda is available, but really, don't try to run this code\n",
    "# without a GPU, it will take forever\n",
    "cuda_available = torch.cuda.is_available()"
   ]
  },
  {
   "cell_type": "code",
   "execution_count": 2,
   "metadata": {},
   "outputs": [
    {
     "name": "stderr",
     "output_type": "stream",
     "text": [
      "Some weights of DistilBertForSequenceClassification were not initialized from the model checkpoint at distilbert-base-uncased and are newly initialized: ['pre_classifier.bias', 'classifier.bias', 'classifier.weight', 'pre_classifier.weight']\n",
      "You should probably TRAIN this model on a down-stream task to be able to use it for predictions and inference.\n"
     ]
    }
   ],
   "source": [
    "# Here we load the transformers and simpletransformers libraries. I like using\n",
    "# simpletransformers because it's a fun abstraction layer, and most\n",
    "# transformers-functionality can be emulated with it very easily. For everything\n",
    "# else, we can extract functions from the OG-transformers library. The first\n",
    "# time you run this cell, the DistilBERT-model will be downloaded under\n",
    "# user/.cache/transfomers\n",
    "\n",
    "# NOTE: Please learn from my mistakes. When initializing/loading a model with\n",
    "# simpletransformers, the actual model chosen in the case of binary\n",
    "# classification is the *ForSequenceClassification. This is what happens when\n",
    "# you rely on abstraction-layers. Anyway, if you load the right\n",
    "# transformer-model directly to manually adjust the weights, the correct\n",
    "# training layers will be initialized downstream\n",
    "from transformers import DistilBertForSequenceClassification\n",
    "from simpletransformers.classification import ClassificationModel\n",
    "\n",
    "model = ClassificationModel('distilbert','distilbert-base-uncased')\n",
    "tokenizer = model.tokenizer"
   ]
  },
  {
   "cell_type": "code",
   "execution_count": 3,
   "metadata": {},
   "outputs": [],
   "source": [
    "# This is an artefact I'm leaving in. Here I created the requirements.txt to\n",
    "# make setup for this virtualenv just a little easier\n",
    "\n",
    "# conda list -e > requirements.txt"
   ]
  },
  {
   "cell_type": "code",
   "execution_count": 4,
   "metadata": {},
   "outputs": [],
   "source": [
    "# Reading in the training/test-data, this is a remnant of my Master in Digital\n",
    "# Text Analysis, where we utilized data from the OLID-competition of 2020 (I\n",
    "# believe, not sure about this!)\n",
    "df = pd.read_csv(r'data\\olid-training-v1.0_cleaned_final.csv')"
   ]
  },
  {
   "cell_type": "code",
   "execution_count": 5,
   "metadata": {},
   "outputs": [],
   "source": [
    "# We rename the columns to be in line with what the simpletransformers library\n",
    "# expects\n",
    "df.columns=['id','text','labels']"
   ]
  },
  {
   "cell_type": "code",
   "execution_count": 6,
   "metadata": {},
   "outputs": [
    {
     "data": {
      "text/html": [
       "<div>\n",
       "<style scoped>\n",
       "    .dataframe tbody tr th:only-of-type {\n",
       "        vertical-align: middle;\n",
       "    }\n",
       "\n",
       "    .dataframe tbody tr th {\n",
       "        vertical-align: top;\n",
       "    }\n",
       "\n",
       "    .dataframe thead th {\n",
       "        text-align: right;\n",
       "    }\n",
       "</style>\n",
       "<table border=\"1\" class=\"dataframe\">\n",
       "  <thead>\n",
       "    <tr style=\"text-align: right;\">\n",
       "      <th></th>\n",
       "      <th>id</th>\n",
       "      <th>text</th>\n",
       "      <th>labels</th>\n",
       "    </tr>\n",
       "  </thead>\n",
       "  <tbody>\n",
       "    <tr>\n",
       "      <th>0</th>\n",
       "      <td>86426</td>\n",
       "      <td>ask native americans</td>\n",
       "      <td>OFF</td>\n",
       "    </tr>\n",
       "    <tr>\n",
       "      <th>1</th>\n",
       "      <td>90194</td>\n",
       "      <td>home drunk oncomingfist oncomingfist</td>\n",
       "      <td>OFF</td>\n",
       "    </tr>\n",
       "    <tr>\n",
       "      <th>2</th>\n",
       "      <td>16820</td>\n",
       "      <td>amazon investigate chinese employee sell inter...</td>\n",
       "      <td>NOT</td>\n",
       "    </tr>\n",
       "    <tr>\n",
       "      <th>3</th>\n",
       "      <td>62688</td>\n",
       "      <td>piece shit volcano facewithtearsofjoy</td>\n",
       "      <td>OFF</td>\n",
       "    </tr>\n",
       "    <tr>\n",
       "      <th>4</th>\n",
       "      <td>43605</td>\n",
       "      <td>obama want liberal amp illegal red state</td>\n",
       "      <td>NOT</td>\n",
       "    </tr>\n",
       "  </tbody>\n",
       "</table>\n",
       "</div>"
      ],
      "text/plain": [
       "      id                                               text labels\n",
       "0  86426                               ask native americans    OFF\n",
       "1  90194               home drunk oncomingfist oncomingfist    OFF\n",
       "2  16820  amazon investigate chinese employee sell inter...    NOT\n",
       "3  62688              piece shit volcano facewithtearsofjoy    OFF\n",
       "4  43605           obama want liberal amp illegal red state    NOT"
      ]
     },
     "execution_count": 6,
     "metadata": {},
     "output_type": "execute_result"
    }
   ],
   "source": [
    "# Let's see what is in the dataframe\n",
    "df.head()"
   ]
  },
  {
   "cell_type": "code",
   "execution_count": 7,
   "metadata": {},
   "outputs": [
    {
     "data": {
      "text/html": [
       "<div>\n",
       "<style scoped>\n",
       "    .dataframe tbody tr th:only-of-type {\n",
       "        vertical-align: middle;\n",
       "    }\n",
       "\n",
       "    .dataframe tbody tr th {\n",
       "        vertical-align: top;\n",
       "    }\n",
       "\n",
       "    .dataframe thead th {\n",
       "        text-align: right;\n",
       "    }\n",
       "</style>\n",
       "<table border=\"1\" class=\"dataframe\">\n",
       "  <thead>\n",
       "    <tr style=\"text-align: right;\">\n",
       "      <th></th>\n",
       "      <th>text</th>\n",
       "      <th>labels</th>\n",
       "    </tr>\n",
       "  </thead>\n",
       "  <tbody>\n",
       "    <tr>\n",
       "      <th>0</th>\n",
       "      <td>ask native americans</td>\n",
       "      <td>OFF</td>\n",
       "    </tr>\n",
       "    <tr>\n",
       "      <th>1</th>\n",
       "      <td>home drunk oncomingfist oncomingfist</td>\n",
       "      <td>OFF</td>\n",
       "    </tr>\n",
       "    <tr>\n",
       "      <th>2</th>\n",
       "      <td>amazon investigate chinese employee sell inter...</td>\n",
       "      <td>NOT</td>\n",
       "    </tr>\n",
       "    <tr>\n",
       "      <th>3</th>\n",
       "      <td>piece shit volcano facewithtearsofjoy</td>\n",
       "      <td>OFF</td>\n",
       "    </tr>\n",
       "    <tr>\n",
       "      <th>4</th>\n",
       "      <td>obama want liberal amp illegal red state</td>\n",
       "      <td>NOT</td>\n",
       "    </tr>\n",
       "  </tbody>\n",
       "</table>\n",
       "</div>"
      ],
      "text/plain": [
       "                                                text labels\n",
       "0                               ask native americans    OFF\n",
       "1               home drunk oncomingfist oncomingfist    OFF\n",
       "2  amazon investigate chinese employee sell inter...    NOT\n",
       "3              piece shit volcano facewithtearsofjoy    OFF\n",
       "4           obama want liberal amp illegal red state    NOT"
      ]
     },
     "execution_count": 7,
     "metadata": {},
     "output_type": "execute_result"
    }
   ],
   "source": [
    "# Okay, so here we only call the text and labels-columns out of the dataframe,\n",
    "# because the simpletransformers library can only work with these two fields\n",
    "task_df = df[['text', 'labels']]\n",
    "task_df.head()"
   ]
  },
  {
   "cell_type": "code",
   "execution_count": 8,
   "metadata": {},
   "outputs": [],
   "source": [
    "# First split in train/test-dataframes, then into train/dev-dataframes. Note that\n",
    "# we do not split into X_train and y_train, because the transformer-model predict \n",
    "# function takes both lists as one\n",
    "from sklearn.model_selection import train_test_split\n",
    "\n",
    "train_df, test_df = train_test_split(task_df, test_size=0.2, shuffle=True, random_state=42, stratify=task_df['labels'])\n",
    "train_df, dev_df = train_test_split(train_df, test_size=0.25, shuffle=True, random_state=42, stratify=train_df['labels'])"
   ]
  },
  {
   "cell_type": "code",
   "execution_count": 9,
   "metadata": {},
   "outputs": [
    {
     "name": "stdout",
     "output_type": "stream",
     "text": [
      "Gradient accu size: 4\n",
      "Expected steps per epoch: 493\n",
      "Necesarry validation steps per epoch: 123\n"
     ]
    },
    {
     "name": "stdout",
     "output_type": "stream",
     "text": [
      "141\n"
     ]
    },
    {
     "name": "stderr",
     "output_type": "stream",
     "text": [
      "Some weights of DistilBertForSequenceClassification were not initialized from the model checkpoint at distilbert-base-uncased and are newly initialized: ['pre_classifier.bias', 'classifier.bias', 'classifier.weight', 'pre_classifier.weight']\n",
      "You should probably TRAIN this model on a down-stream task to be able to use it for predictions and inference.\n"
     ]
    }
   ],
   "source": [
    "# This is a general hyperparamater-setup of mine to run this model with, it's\n",
    "# something that I designed and kept on using during my Master's. I keep on\n",
    "# using it because it works\n",
    "\n",
    "# Setting up batch size, here we pick 16\n",
    "train_batch_size = 16\n",
    "if train_batch_size % 4 != 0:\n",
    "    raise ValueError('Train_batch_size is not % 4 == 0')\n",
    "\n",
    "# Setting up gradient accumulation size, to lower the total memory needed in my\n",
    "# GPU, as I personally only got 6 GB (I'm a sparse person!)\n",
    "gradient_accu_size = int(64 / train_batch_size)\n",
    "print(f\"Gradient accu size: {gradient_accu_size}\")\n",
    "\n",
    "# Setting up the steps per epoch and validation steps, based on the batch-size\n",
    "# and the total length of the training-dataframe\n",
    "steps_per_epoch = int(np.ceil(len(train_df) / float(train_batch_size)))\n",
    "validation_steps = steps_per_epoch / 4 # Is just a random number to split up the validations, change to flavor\n",
    "print(f\"Expected steps per epoch: {steps_per_epoch}\")\n",
    "print(f\"Necesarry validation steps per epoch: {round(validation_steps)}\")\n",
    "\n",
    "# Little function to figure out the max-length of the total amount of tokens\n",
    "# based on the training-dataframe. Most transfomer-based models only take a max\n",
    "# amount of 512 tokens, so if the longest sequence in the training-dataframe is\n",
    "# shorter, we'll decrease this hyperparameter to not use any useless padding\n",
    "# during training. Green-IT is a necessity, not an option\n",
    "def max_len(tokenizer, text):\n",
    "    token_lens = []\n",
    "\n",
    "    for txt in text:\n",
    "        tokens = tokenizer.encode(txt, max_length=512, truncation=True)\n",
    "        token_lens.append(len(tokens))\n",
    "    max_length=sorted(token_lens, reverse=True)[0]\n",
    "    return max_length\n",
    "\n",
    "# And here we setup the max_length hypeerparameter\n",
    "max_length = max_len(tokenizer, train_df['text'])\n",
    "print(max_length)\n",
    "\n",
    "# So you might notice here, \"hey, I thought we already initialized a model\n",
    "# earlier?\". And you're right, but this was only to extract the tokenizer. Here\n",
    "# we run all arguments for the model to actually train it. Again, the\n",
    "# hyperparameters which are static are just a personal preference (ref., again\n",
    "# in the category \"it-just-works\"). The two labels are defined, as we only have\n",
    "# two classes to classify on\n",
    "model = ClassificationModel('distilbert',\n",
    "                            'distilbert-base-uncased',\n",
    "                            num_labels=2,\n",
    "                            args={'labels_list': [\"OFF\", \"NOT\"],\n",
    "                            'train_batch_size': train_batch_size, \n",
    "                            'gradient_accumulation_steps': gradient_accu_size, \n",
    "                            'learning_rate': 1e-5, \n",
    "                            'num_train_epochs': 5, \n",
    "                            'max_seq_length': max_length,\n",
    "                            'overwrite_output_dir': True,\n",
    "                            'gradient_checkpointing': False,\n",
    "                            'use_early_stopping': True,\n",
    "                            'early_stopping_delt': 0.01,\n",
    "                            'early_stopping_metric': 'eval_loss',\n",
    "                            'early_stopping_metric_minimize': True, \n",
    "                            'early_stopping_patience': 2,\n",
    "                            'evaluate_during_training': True,\n",
    "                            'evaluate_during_training_steps': validation_steps,\n",
    "                            'evaluate_during_training_silent': False,\n",
    "                            'evaluate_each_epoch': True,\n",
    "                            # 'sliding_window': True\n",
    "                            },\n",
    "                            use_cuda=cuda_available)"
   ]
  },
  {
   "cell_type": "code",
   "execution_count": 10,
   "metadata": {},
   "outputs": [],
   "source": [
    "# So this is just a little piece to speed up the process, as I've already\n",
    "# trained the model locally. If you're doing this for the first time, inject the\n",
    "# flag to \"True\". This should take around 15 to 20 minutes on a GTX 1060 6GB.\n",
    "# Otherwise you're just going to take the best_model from an earlier training\n",
    "# session. Be sure to have enough space, the outputs will take around 5.5 GBs op\n",
    "# space!\n",
    "def train_or_load(model, train=False):\n",
    "    if train != False:\n",
    "        _, history = model.train_model(train_df, eval_df = dev_df)\n",
    "        model = ClassificationModel(\"distilbert\", r\"outputs\\best_model\")\n",
    "        return model\n",
    "    else:\n",
    "        model = ClassificationModel(\"distilbert\", r\"outputs\\best_model\")\n",
    "        return model\n",
    "\n",
    "model = train_or_load(model)"
   ]
  },
  {
   "cell_type": "code",
   "execution_count": 11,
   "metadata": {},
   "outputs": [
    {
     "data": {
      "application/vnd.jupyter.widget-view+json": {
       "model_id": "c24c38ee7f084f158d25a8a6a4f86276",
       "version_major": 2,
       "version_minor": 0
      },
      "text/plain": [
       "  0%|          | 0/2628 [00:00<?, ?it/s]"
      ]
     },
     "metadata": {},
     "output_type": "display_data"
    },
    {
     "data": {
      "application/vnd.jupyter.widget-view+json": {
       "model_id": "7113377a91ba4589a3918465b025eca6",
       "version_major": 2,
       "version_minor": 0
      },
      "text/plain": [
       "Running Evaluation:   0%|          | 0/329 [00:00<?, ?it/s]"
      ]
     },
     "metadata": {},
     "output_type": "display_data"
    }
   ],
   "source": [
    "# Here we check the general result of the evaluation of the model on the\n",
    "# dev-dataframe. Should take around half a minute to run\n",
    "result, model_outputs, wrong_predictions = model.eval_model(dev_df)"
   ]
  },
  {
   "cell_type": "code",
   "execution_count": 12,
   "metadata": {},
   "outputs": [
    {
     "name": "stdout",
     "output_type": "stream",
     "text": [
      "Results of model: {'mcc': 0.5350964533281166, 'tp': 1514, 'tn': 579, 'fp': 301, 'fn': 234, 'auroc': 0.8452413147493238, 'auprc': 0.90468145761584, 'eval_loss': 0.45348839339514274}\n"
     ]
    }
   ],
   "source": [
    "# Continuation on the evaluation results\n",
    "print(f\"Results of model: {result}\")"
   ]
  },
  {
   "cell_type": "code",
   "execution_count": 13,
   "metadata": {},
   "outputs": [
    {
     "data": {
      "application/vnd.jupyter.widget-view+json": {
       "model_id": "7b18ef89d12545d4a7803d967ea0c3a5",
       "version_major": 2,
       "version_minor": 0
      },
      "text/plain": [
       "  0%|          | 0/2628 [00:00<?, ?it/s]"
      ]
     },
     "metadata": {},
     "output_type": "display_data"
    },
    {
     "data": {
      "application/vnd.jupyter.widget-view+json": {
       "model_id": "618466470a224ffc89f86f65a33db96d",
       "version_major": 2,
       "version_minor": 0
      },
      "text/plain": [
       "  0%|          | 0/329 [00:00<?, ?it/s]"
      ]
     },
     "metadata": {},
     "output_type": "display_data"
    }
   ],
   "source": [
    "# Here we make predictions with the model based on test-dataframe. Should again\n",
    "# take around half a minute to run\n",
    "predicted, probabilities = model.predict(test_df['text'].to_list())\n",
    "test_df['predicted'] = predicted"
   ]
  },
  {
   "cell_type": "code",
   "execution_count": 14,
   "metadata": {},
   "outputs": [
    {
     "name": "stdout",
     "output_type": "stream",
     "text": [
      "              precision    recall  f1-score   support\n",
      "\n",
      "         NOT       0.83      0.87      0.85      1748\n",
      "         OFF       0.71      0.64      0.67       880\n",
      "\n",
      "    accuracy                           0.79      2628\n",
      "   macro avg       0.77      0.75      0.76      2628\n",
      "weighted avg       0.79      0.79      0.79      2628\n",
      "\n"
     ]
    }
   ],
   "source": [
    "# Print results of classification of hatespeech based on the cleaned OLID data.\n",
    "# Originally the best model (ref., HateBERT) at the time of the contest got around 82% Macro\n",
    "# F1-score, which was done by an entire research team at the University of\n",
    "# Groningen. So anything above 75% is pretty fly for this solo-rider, especially\n",
    "# with such a small model\n",
    "print(classification_report(test_df['labels'], test_df['predicted']))"
   ]
  },
  {
   "cell_type": "code",
   "execution_count": 15,
   "metadata": {},
   "outputs": [
    {
     "data": {
      "image/png": "[encoded data removed]",
      "text/plain": [
       "<Figure size 640x480 with 2 Axes>"
      ]
     },
     "metadata": {},
     "output_type": "display_data"
    }
   ],
   "source": [
    "# Plot the confusion matrix of the unpoisoned model\n",
    "confusion_matrix = pd.crosstab(test_df['labels'], test_df['predicted'], rownames=['Actual'], colnames=['Predicted']) \n",
    "sn.heatmap(confusion_matrix, annot=True, cmap='Blues', fmt='g')\n",
    "plt.show()"
   ]
  },
  {
   "cell_type": "markdown",
   "metadata": {},
   "source": [
    "### PART1: Running the characters in the most significant bits, encrypted\n",
    "In the PART2: CAPACITY we foud out that the most stable way to include our text\n",
    "to the floats of choice is by utilizing the most significant bits. Lets stick\n",
    "with that, and add an encryption step so the text would come over as gibberish\n",
    "without the encryption key. And this would be expected behavior, as we've seen\n",
    "in PART1: POC that decoding floats of a token that don't contain\n",
    "character-encodings does look like gibberish indeed"
   ]
  },
  {
   "cell_type": "code",
   "execution_count": 16,
   "metadata": {},
   "outputs": [
    {
     "name": "stdout",
     "output_type": "stream",
     "text": [
      "30522\n",
      "===starting from end===\n",
      "\n",
      "##～\n",
      "##？\n",
      "##：\n",
      "##／\n",
      "##．\n",
      "##－\n",
      "##，\n",
      "##）\n",
      "##（\n",
      "===starting from end, 1000 tokens in ===\n",
      "['earthly', 'florian', 'deprivation', 'chases', 'taluka', 'naia', 'stanza', 'inspecting', 'embroidery', 'adventurer']\n",
      "11557\n"
     ]
    }
   ],
   "source": [
    "# This is really a re-run of PART2: CAPACITY, so that we can build on the\n",
    "# multiline support. skip over the parts that don't interest you\n",
    "\n",
    "# So now that we have our hatespeech classifier up and running, we've got to\n",
    "# identify the weights which are the least likely to occur in\n",
    "# training-dataframes. The reason why is because the occurence of a subword or\n",
    "# word may change the weights significantly, causing \"catastrophic forgetting\"\n",
    "# of - in this case - the targeted encoding of stego-revshell code. One hacky\n",
    "# way of doing this is just going to the end of the vocab of the model. Another\n",
    "# way is by manually designing and adding null-tokens, and extending the \n",
    "# tokenizer. NOTE: we'll get back to this once I get the basics running\n",
    "\n",
    "# Anyway, now that we know that the classifier works, we'll dive a bit deeper\n",
    "# in the embeddings of the actual transformer to see whats-what. We can keep the\n",
    "# tokenizer we initialized earlier, because this hasn't changed\n",
    "t_model = DistilBertForSequenceClassification.from_pretrained(r\"outputs\\best_model\")\n",
    "\n",
    "# We know that in this case, the tokenizer has a length of 30522 tokens, so\n",
    "# let's see what is in the final 10\n",
    "print(len(tokenizer))\n",
    "print(\"===starting from end===\")\n",
    "for i in range(10):\n",
    "    print(tokenizer.decode(len(tokenizer) - i))\n",
    "\n",
    "# Okay, these seem like pretty important tokens... Let's dive a bit deeper at\n",
    "# the end. Here we have a bunch of subword and full words. What we want is\n",
    "# full words, as subwords are used in different token-compositions, making them\n",
    "# more important for re-constructing weights, diminishing the overall\n",
    "# performance of the model if we mess with them too much. Last time we didn't\n",
    "# really take into account to total amount of floats that we need to hide our\n",
    "# text, but this time we'll have to, based on the total amount of characters in\n",
    "# the used book. Lets see how many words with unique identifiers we have\n",
    "# available from a 1000 tokens in till around 15000\n",
    "print(\"===starting from end, 1000 tokens in ===\")\n",
    "# Creating a horrible global just to aggrevate some people, I don't mind the\n",
    "# hate ;)\n",
    "\n",
    "def extract_uniq_tokens():\n",
    "    uniq_token_list = []\n",
    "    for i in range(15000):\n",
    "        token = tokenizer.decode(len(tokenizer) - (i+1000))\n",
    "        # Again, what we don't want are subtokens, so we filter for those\n",
    "        if token.count(\"#\") > 0:\n",
    "            continue\n",
    "        else:\n",
    "            uniq_token_list.append(token)\n",
    "    return uniq_token_list\n",
    "\n",
    "uniq_tokens = extract_uniq_tokens()\n",
    "# Hey look, \"deprivation\" is here again, from #PART1! :)\n",
    "print(uniq_tokens[:10])\n",
    "# Alright, 11557 uniq tokens is quite a lot of space. Let's figure out how many\n",
    "# floats these have available by adjusting our little function above in a new\n",
    "# cell, and create a list of tensors based on the uniq_tokens we found\n",
    "print(len(uniq_tokens))"
   ]
  },
  {
   "cell_type": "code",
   "execution_count": 17,
   "metadata": {},
   "outputs": [
    {
     "name": "stdout",
     "output_type": "stream",
     "text": [
      "Length of tensor-list: 10773 == length of unique tokens list: 11557\n",
      "('earthly', tensor([-8.7723e-02, -2.3785e-02, -1.7166e-02, -7.7936e-02, -4.7125e-02,\n",
      "        -5.6505e-02, -7.8498e-02,  5.5226e-04,  1.8042e-03, -9.1064e-03,\n",
      "        -7.6041e-02, -3.5035e-02, -5.1399e-02,  2.1458e-02, -9.2859e-02,\n",
      "        -7.4316e-02, -6.8419e-02, -2.0516e-02, -1.2172e-02,  7.2909e-03,\n",
      "        -4.1666e-02, -1.0068e-01, -6.4713e-02, -1.2766e-02, -5.4684e-02,\n",
      "        -4.0734e-03, -1.7979e-03, -9.9188e-02, -2.2400e-02, -1.2699e-01,\n",
      "        -9.2369e-02, -5.1764e-03, -7.4527e-03, -4.1348e-02, -7.8576e-02,\n",
      "        -7.4695e-02, -6.2167e-02, -6.3575e-02, -1.1293e-01, -1.0036e-01,\n",
      "        -1.1948e-01, -8.8818e-02, -1.0739e-01, -4.6245e-02, -3.2149e-02,\n",
      "        -4.0062e-02, -1.7900e-02, -1.2233e-02, -1.2044e-01,  1.4286e-02,\n",
      "        -1.2682e-01, -3.2097e-02, -8.2087e-02,  4.8431e-02, -1.9295e-02,\n",
      "        -9.0105e-02, -3.4545e-02, -3.5478e-02, -6.5844e-02, -6.2328e-02,\n",
      "        -9.5836e-02, -9.2629e-02,  2.4035e-02, -6.3172e-02, -5.0415e-02,\n",
      "        -8.0983e-02, -8.5825e-02, -1.1051e-01, -1.7164e-02, -6.4238e-02,\n",
      "        -2.5812e-02, -8.5451e-02, -8.6506e-02, -3.6331e-02, -5.9949e-02,\n",
      "        -3.7368e-02, -1.2049e-01,  4.0288e-03, -7.7349e-02, -1.2527e-02,\n",
      "        -4.7864e-02, -6.9273e-03, -7.1026e-02, -5.9391e-02, -8.8951e-02,\n",
      "        -3.6277e-02, -8.7889e-02, -8.7815e-02, -7.9454e-03, -2.8653e-02,\n",
      "        -5.6786e-02,  2.3488e-02, -3.7933e-02, -1.2271e-02,  7.5974e-03,\n",
      "        -1.3803e-01, -2.4303e-03, -9.3193e-02, -5.6486e-02,  2.8307e-02,\n",
      "        -1.1942e-01, -7.5532e-03, -4.5874e-02, -8.7613e-02, -4.2632e-02,\n",
      "         1.7654e-02, -3.9239e-02, -1.1991e-02, -2.5776e-02, -4.3321e-02,\n",
      "        -4.0963e-02,  5.9456e-03, -4.2382e-03,  1.6787e-03, -2.6682e-02,\n",
      "        -6.5180e-02,  1.4059e-02, -1.0406e-01, -1.0183e-01, -1.5235e-02,\n",
      "        -3.2155e-02,  1.0303e-01, -8.7882e-02, -1.4262e-01, -1.7297e-01,\n",
      "        -5.4797e-02, -6.9746e-02, -1.2564e-01, -6.3917e-03, -1.0264e-01,\n",
      "        -5.0752e-02,  1.5339e-02,  5.6426e-02, -3.3707e-02, -4.8952e-02,\n",
      "         1.2125e-02, -7.7682e-02, -4.3504e-02, -2.0703e-02,  7.4408e-02,\n",
      "        -7.4819e-02, -1.9297e-02, -3.6207e-02, -3.4309e-02, -7.1663e-02,\n",
      "        -5.6387e-02,  1.1704e-02, -4.3192e-02, -7.2434e-02, -1.0046e-01,\n",
      "        -1.0113e-01, -7.1723e-02, -1.6254e-01, -5.9976e-02, -4.9793e-02,\n",
      "        -1.0894e-01,  6.7591e-02,  4.5843e-03, -4.9074e-02,  9.1785e-02,\n",
      "        -7.6177e-02, -7.2434e-03, -1.4133e-01, -4.1324e-02, -7.6053e-02,\n",
      "        -4.7113e-02, -5.4885e-02, -5.0752e-02,  9.9773e-02, -5.6662e-02,\n",
      "        -1.2374e-02, -6.4999e-03, -9.7552e-02, -5.9056e-02, -5.9921e-02,\n",
      "         1.0996e-01, -1.3888e-02, -5.3248e-02, -7.9171e-02, -6.6061e-02,\n",
      "        -2.7158e-02,  1.5794e-02, -7.9207e-02, -5.8177e-02,  2.3925e-03,\n",
      "        -2.3441e-02, -3.9789e-02, -2.1034e-02,  4.6994e-03, -4.1416e-02,\n",
      "        -1.2780e-01,  4.6160e-02, -6.2389e-02, -9.6845e-02, -1.0888e-01,\n",
      "        -1.7749e-02, -4.5970e-02, -1.0734e-01, -1.6656e-02, -6.3931e-02,\n",
      "        -8.5519e-02,  4.0355e-02, -7.2137e-02, -1.1261e-01, -5.2986e-02,\n",
      "        -7.6250e-02, -3.3071e-02, -6.1252e-02, -2.7984e-02, -9.5395e-02,\n",
      "        -4.9579e-02, -5.5803e-02, -4.3644e-02, -5.5633e-02, -5.1867e-02,\n",
      "         8.1852e-02, -5.0533e-02, -2.0802e-02,  7.1857e-02, -7.4588e-02,\n",
      "        -1.5233e-02, -4.1549e-02, -9.4585e-02, -2.8406e-02, -2.3431e-02,\n",
      "         1.6335e-02, -7.6457e-02, -9.3024e-02, -9.5529e-03, -8.5272e-02,\n",
      "        -5.0645e-02, -1.1236e-01, -6.6918e-02, -1.0252e-01, -6.7517e-02,\n",
      "        -4.1462e-02,  5.1225e-03, -5.2257e-02, -7.5003e-02, -2.6313e-02,\n",
      "        -9.8916e-02, -1.7689e-02, -9.3964e-02, -6.7115e-02, -8.4361e-02,\n",
      "         9.1127e-02, -8.3035e-02, -1.0731e-01, -1.3025e-01, -9.2711e-02,\n",
      "        -8.3815e-02, -5.8220e-02, -4.2872e-02, -3.5940e-02, -2.7916e-02,\n",
      "        -8.1653e-02, -6.0468e-02, -1.7138e-02,  2.6727e-03, -6.8388e-02,\n",
      "         2.9049e-03, -5.3313e-02, -2.4625e-02, -6.4151e-03, -4.7751e-02,\n",
      "        -6.6370e-02, -2.7649e-02, -5.3476e-02,  1.2167e-02, -6.3957e-02,\n",
      "        -3.4128e-02, -3.9790e-02, -3.0466e-02, -7.5141e-02, -1.5760e-02,\n",
      "        -8.7225e-02, -3.6801e-02, -5.8692e-02, -3.0659e-02, -9.3721e-02,\n",
      "        -4.9788e-02, -1.5917e-02, -2.9241e-02,  2.1483e-02,  3.6260e-02,\n",
      "        -5.3358e-02, -8.4314e-02, -6.9535e-02,  9.5897e-03, -5.6893e-02,\n",
      "        -1.0110e-02,  3.6859e-02,  3.5295e-02, -7.6545e-02, -8.5885e-02,\n",
      "        -5.7969e-02,  5.5997e-02, -9.0218e-02, -5.2279e-02, -4.8071e-02,\n",
      "        -1.4098e-01, -9.1836e-02, -2.9363e-02, -5.9016e-02, -1.1323e-01,\n",
      "        -1.7803e-02, -6.6476e-02, -2.3873e-02, -6.6665e-04, -3.7132e-02,\n",
      "        -9.4114e-02,  7.2346e-02, -8.9745e-02, -3.4802e-02, -7.0447e-02,\n",
      "        -7.8365e-02, -1.1325e-01, -3.8366e-02, -8.3592e-03,  6.1607e-02,\n",
      "        -1.8202e-03, -3.4679e-03, -6.6411e-02, -1.2114e-01, -6.7823e-02,\n",
      "        -8.9708e-02, -1.9377e-02, -6.9350e-02, -1.1292e-01, -7.9401e-02,\n",
      "        -1.8109e-02,  4.5789e-02, -3.7881e-02, -1.1309e-01, -7.8383e-02,\n",
      "        -9.7921e-02, -7.0317e-02, -7.5450e-02, -3.9621e-02, -4.6385e-02,\n",
      "        -7.2961e-02, -8.5567e-02, -3.0849e-02,  3.8883e-02, -3.7746e-03,\n",
      "         3.9933e-02, -5.4942e-02, -5.7664e-02, -5.5802e-02, -2.7526e-02,\n",
      "        -6.2363e-02, -1.8079e-02, -6.0515e-02,  7.7782e-02, -1.0796e-01,\n",
      "        -1.9786e-02, -4.7777e-02, -4.9771e-02, -4.7806e-02, -3.4411e-02,\n",
      "        -8.2143e-03, -6.3659e-02, -5.4722e-02, -6.5173e-02, -1.2890e-01,\n",
      "        -1.2703e-01, -3.4395e-02, -9.8337e-03, -7.8577e-02, -1.5482e-01,\n",
      "         2.5515e-03, -7.1244e-02,  1.6703e-02,  9.2945e-02, -4.7534e-02,\n",
      "        -1.0772e-02, -1.4389e-02,  3.3509e-02, -5.8319e-02, -7.7548e-02,\n",
      "        -3.1129e-02, -8.0671e-02, -5.6161e-02, -6.0085e-03,  5.1788e-03,\n",
      "        -4.2879e-02, -5.1458e-02, -5.3604e-02, -5.7591e-02, -1.3593e-02,\n",
      "        -8.8392e-02, -3.6141e-02, -4.9999e-02, -7.2998e-02, -5.4847e-02,\n",
      "        -2.4822e-02, -2.8915e-02, -7.3879e-02, -6.8322e-02, -1.1025e-01,\n",
      "         3.3784e-02, -1.4946e-01, -1.0129e-01, -8.8503e-02, -5.8993e-02,\n",
      "        -4.7398e-02, -9.1561e-02, -6.9681e-02, -5.5127e-02,  2.8590e-02,\n",
      "        -6.2433e-02, -1.2368e-02, -8.5081e-02, -5.0698e-02, -8.8167e-02,\n",
      "        -5.2216e-02, -9.4645e-02, -2.9132e-02, -6.6350e-02, -5.5105e-02,\n",
      "        -3.9606e-03, -5.5650e-02, -7.4342e-02, -1.5399e-02, -4.2249e-02,\n",
      "        -7.0907e-02, -9.0770e-02, -7.5541e-02, -4.3348e-02, -1.2896e-01,\n",
      "        -3.2390e-02, -9.0962e-02, -9.0085e-02,  2.5319e-03,  2.8438e-02,\n",
      "        -7.8808e-02, -7.4235e-02, -6.3442e-02, -3.1592e-02, -6.4311e-02,\n",
      "        -5.7884e-02,  1.3514e-02, -1.9193e-02,  9.7903e-02, -1.0936e-01,\n",
      "        -2.3960e-02, -5.1061e-02, -2.4745e-02, -7.1848e-02, -8.9493e-02,\n",
      "        -4.1744e-02,  7.3297e-03, -8.0094e-02, -1.8946e-02,  5.2328e-02,\n",
      "        -9.0608e-02, -4.5128e-02,  4.5384e-03, -7.0366e-02, -1.0224e-01,\n",
      "        -1.7714e-02,  2.1425e-02, -5.1217e-02,  3.9160e-02, -7.5579e-02,\n",
      "        -6.2577e-02, -7.4135e-02, -1.0824e-02, -9.7336e-03, -3.4072e-02,\n",
      "        -2.3865e-02, -1.1019e-01, -9.4525e-02, -5.2810e-02, -4.3061e-02,\n",
      "        -5.1234e-02, -8.5963e-02, -1.1560e-02, -5.6901e-02,  5.4421e-03,\n",
      "        -6.2397e-02, -1.0094e-01,  5.4553e-02, -5.2651e-02, -5.0541e-02,\n",
      "        -6.7187e-02, -8.1546e-02, -3.8392e-02, -5.0068e-02, -4.3762e-02,\n",
      "        -4.6883e-02, -1.2931e-01, -3.9451e-02, -7.0783e-02, -2.5273e-02,\n",
      "        -6.4648e-02,  5.3162e-03, -4.2848e-02, -1.3796e-01, -6.2384e-02,\n",
      "        -5.6344e-02,  2.7659e-02, -1.1805e-01, -4.1035e-02, -4.0403e-02,\n",
      "        -1.0621e-01, -2.0820e-02, -6.1832e-02, -9.0127e-02, -2.1257e-01,\n",
      "        -8.6626e-02, -8.6272e-02, -9.3322e-02, -9.0821e-02, -6.9589e-02,\n",
      "        -2.2176e-02, -4.3022e-02,  5.7565e-02, -6.5127e-02, -1.0707e-01,\n",
      "        -4.2917e-02, -8.4388e-02, -1.1979e-01,  5.6903e-03, -1.0519e-02,\n",
      "        -5.7235e-02, -8.5949e-02, -1.5849e-01, -5.1373e-02,  8.0685e-02,\n",
      "        -9.6213e-02, -4.5469e-02, -9.4672e-04, -5.1780e-02, -9.9854e-03,\n",
      "        -7.3103e-02, -6.2854e-02, -2.8354e-02, -5.8343e-02, -8.1615e-02,\n",
      "        -2.6195e-02,  2.1911e-02,  2.7932e-02,  1.8959e-03,  2.9723e-02,\n",
      "         1.6217e-02, -4.1289e-03, -9.6253e-03, -1.4175e-02, -7.1603e-02,\n",
      "        -5.8825e-02, -2.7576e-02, -3.8887e-02,  6.8731e-05,  2.0580e-02,\n",
      "        -7.7931e-02, -3.6556e-02, -5.9479e-02, -7.4996e-02, -1.9637e-02,\n",
      "        -8.3142e-02, -7.4805e-02, -5.7668e-02, -2.4426e-02, -8.7815e-02,\n",
      "        -1.6824e-02, -8.6780e-02, -7.1664e-02, -1.0940e-01, -2.7544e-02,\n",
      "        -6.4202e-02, -9.3525e-02, -3.2542e-02, -1.4815e-02, -2.6794e-02,\n",
      "        -6.9445e-02,  4.5620e-03,  8.5234e-02, -8.9812e-03,  4.6968e-03,\n",
      "        -2.0737e-02, -1.0383e-01, -4.3064e-02, -6.0479e-02, -5.9737e-03,\n",
      "         4.2922e-03, -1.0578e-01, -1.1585e-01, -3.0943e-02, -1.1672e-01,\n",
      "        -7.4412e-02, -4.9474e-02, -8.9509e-02, -1.1552e-01, -7.5349e-02,\n",
      "        -3.0104e-02, -9.0667e-02,  6.4146e-03, -7.1476e-02, -1.5051e-02,\n",
      "        -3.1336e-02, -4.9989e-02, -5.4052e-02, -6.9569e-02, -5.4343e-03,\n",
      "        -5.6129e-02, -7.0567e-02, -1.0982e-01, -4.3994e-02, -1.2498e-01,\n",
      "        -8.2011e-02, -7.7838e-02, -5.4375e-03, -7.4677e-02,  7.7709e-05,\n",
      "        -2.6545e-02, -9.1934e-02, -2.2362e-02, -4.2718e-02,  1.8164e-02,\n",
      "        -3.6778e-02, -1.5531e-03, -4.5012e-02,  1.4574e-04, -9.8906e-02,\n",
      "        -1.3877e-02, -6.3127e-02, -4.9755e-02,  3.6398e-02, -6.1401e-02,\n",
      "        -1.5793e-02, -1.0601e-01, -3.4691e-02, -3.4441e-02, -5.8340e-02,\n",
      "        -8.4693e-02, -7.4607e-02, -5.1475e-02, -4.3799e-02, -4.0279e-02,\n",
      "        -1.0072e-01, -8.0511e-02, -4.4253e-02, -7.5470e-02, -8.8676e-02,\n",
      "        -5.0857e-02, -4.7068e-02, -5.8270e-02, -6.1388e-02,  2.6493e-03,\n",
      "        -8.9571e-02, -5.9053e-02, -1.0624e-02, -8.3541e-02,  1.2765e-01,\n",
      "        -2.3822e-02, -1.6855e-01, -7.9203e-02, -1.6681e-02, -6.2692e-02,\n",
      "        -7.4186e-02, -8.3728e-02, -4.3383e-02, -1.3540e-01, -2.9961e-02,\n",
      "        -8.7112e-02, -1.0582e-01, -8.6240e-02, -5.9501e-02, -4.4711e-02,\n",
      "         8.4188e-02, -1.0403e-02, -3.4292e-02, -1.2889e-02, -5.2885e-02,\n",
      "        -2.1311e-02, -6.5345e-02, -5.2019e-02, -4.9520e-02, -9.2462e-02,\n",
      "         5.2431e-03, -2.3376e-02, -7.9066e-02, -3.4453e-02, -3.6753e-02,\n",
      "        -1.4971e-02, -4.1724e-02,  2.5029e-03, -8.8075e-02, -2.4787e-02,\n",
      "        -5.4509e-02, -8.9897e-02, -6.3486e-02, -6.1827e-02, -1.8738e-03,\n",
      "        -1.5330e-02, -1.2012e-02, -1.1700e-02, -6.0863e-02, -1.0154e-02,\n",
      "         6.5389e-02,  6.6325e-03, -3.9658e-02, -7.2713e-02, -9.7547e-02,\n",
      "        -9.2835e-02, -2.2661e-02,  1.9494e-02, -6.3794e-02,  1.4382e-02,\n",
      "        -5.4927e-02, -5.9013e-02, -6.3145e-02, -6.9429e-02, -1.9105e-03,\n",
      "        -8.9866e-02, -4.8243e-02, -4.7728e-02, -8.0132e-02, -1.1919e-01,\n",
      "        -1.0466e-01, -5.5645e-02,  3.9138e-04, -1.0086e-01,  2.5427e-02,\n",
      "        -5.5297e-02, -7.6717e-02, -5.4503e-02, -3.3360e-02, -5.6998e-02,\n",
      "        -1.1449e-01, -1.6026e-02, -1.3112e-02, -4.2721e-02, -8.9825e-02,\n",
      "        -5.2823e-02, -3.7150e-02, -2.3509e-02, -8.0222e-02, -5.0503e-03,\n",
      "        -1.1962e-01, -3.2614e-02,  1.6045e-03, -7.5497e-02, -8.1555e-02,\n",
      "         3.8368e-02, -2.7059e-02,  1.4922e-02, -7.4603e-02, -2.7088e-02,\n",
      "        -5.3691e-02,  1.4321e-02, -4.1159e-02, -9.4901e-02, -8.9871e-02,\n",
      "        -7.2430e-02, -5.3210e-02, -5.1457e-02, -6.1576e-02, -5.7606e-02,\n",
      "        -1.8207e-02, -1.1603e-01, -5.9545e-02, -5.1798e-02, -3.2528e-03,\n",
      "        -3.9047e-02, -1.7914e-02, -6.4855e-02], requires_grad=True))\n"
     ]
    }
   ],
   "source": [
    "# In the POC we only identified the id of the word \"deprivation\" in the\n",
    "# tokenizer of the model, and extracted the weights associated with it. But now\n",
    "# we turn it up to eleven, because we're going to do this for a total of 11557\n",
    "# tokens! But first I'll filter out only the floats which have a desirable\n",
    "# amount of float-compositions\n",
    "def uniq_tokens_tensors(tokens_list):\n",
    "    tensor_dict = {}\n",
    "    for token in tokens_list:\n",
    "        with torch.no_grad():\n",
    "            t_id = tokenizer.convert_tokens_to_ids(token)\n",
    "            t_weights = t_model.distilbert.embeddings.word_embeddings.weight[t_id]\n",
    "            target_lens = 0\n",
    "            for weights in t_weights.detach().numpy():\n",
    "                # This choice of float-legths is really just a remnant from the\n",
    "                # PoC, where the choice of smaller lengths --> smaller odds of \n",
    "                # causing perturbations when loading the model back in\n",
    "                if len(str(weights)) >= 9 and len(str(weights)) <= 10:\n",
    "                    target_lens += 1\n",
    "                else:\n",
    "                    continue\n",
    "            # This is really just a 'feel'\n",
    "            if target_lens >= 25 and target_lens <= 75:\n",
    "                tensor_dict[token] = t_weights\n",
    "            else:\n",
    "                continue\n",
    "    return tensor_dict\n",
    "\n",
    "uniq_tensor_dict = uniq_tokens_tensors(uniq_tokens)\n",
    "\n",
    "# Alright, the so-called \"best\" float compositions (ref., really, this is just\n",
    "# arbitrary, will have to figure out some better way to choose this) drops the\n",
    "# total amount of suitable tensors\n",
    "print(f\"Length of tensor-list: {len(uniq_tensor_dict)} == length of unique tokens list: {len(uniq_tokens)}\")\n",
    "# And here we can see that the tensors can be called by their respective token,\n",
    "# nice!\n",
    "print(list(uniq_tensor_dict.items())[0])"
   ]
  },
  {
   "cell_type": "code",
   "execution_count": 18,
   "metadata": {},
   "outputs": [
    {
     "name": "stdout",
     "output_type": "stream",
     "text": [
      "Total space available for chars: 655491\n"
     ]
    }
   ],
   "source": [
    "# Let's adjust the add_prog_flt-definition to only extract the total of\n",
    "# len(float) <= 10 of all the tensors included in the uniq_tensor_list\n",
    "def extract_len_count_tensors(tensor_dict):\n",
    "    corr_flt_len_count = 0\n",
    "    for tensor in tensor_dict.items():\n",
    "        flt_list = tensor[1].detach().numpy()\n",
    "        for i in flt_list:\n",
    "            if (len(str(i)) <= 10):\n",
    "                corr_flt_len_count += 1\n",
    "    return corr_flt_len_count\n",
    "\n",
    "print(f\"Total space available for chars: {extract_len_count_tensors(uniq_tensor_dict)}\")"
   ]
  },
  {
   "cell_type": "code",
   "execution_count": 19,
   "metadata": {},
   "outputs": [
    {
     "name": "stdout",
     "output_type": "stream",
     "text": [
      "['Tao Te Ching\\n', '\\n', '                                           Laozi\\n', '\\n', 'Shang Pian\\n', '\\n', '\\n', 'Chapter 1\\n', '\\n', 'The Dao that can be stated, is not the eternal Dao;\\n', '\\n', 'The name that can be named is not the eternal name.\\n', '\\n', 'The unnamed is the origin of heaven and earth;\\n', '\\n', 'The named is the mother of the myriad things.\\n', '\\n', 'Therefore,\\n', '\\n', 'Constantly having no desire in order to view its commencement;\\n', '\\n', 'Constantly having desire in order to view its termination.\\n', '\\n', 'These two have the same origin, but they differ in name;\\n', '\\n', 'Both are called Mystery.\\n', '\\n', 'Mystery after Mystery, is the gate to all wonders.']\n",
      "['T', 'a', 'o', ' ', 'T', 'e', ' ', 'C', 'h', 'i', 'n', 'g', '\\n', '\\n', ' ', ' ', ' ', ' ', ' ', ' ', ' ', ' ', ' ', ' ', ' ', ' ', ' ', ' ', ' ', ' ', ' ', ' ', ' ', ' ', ' ', ' ', ' ', ' ', ' ', ' ', ' ', ' ', ' ', ' ', ' ', ' ', ' ', ' ', ' ', ' ', ' ', ' ', ' ', ' ', ' ', ' ', ' ', 'L', 'a', 'o', 'z', 'i', '\\n', '\\n', 'S', 'h', 'a', 'n', 'g', ' ', 'P', 'i', 'a', 'n', '\\n', '\\n', '\\n', 'C', 'h', 'a', 'p', 't', 'e', 'r', ' ', '1', '\\n', '\\n', 'T', 'h', 'e', ' ', 'D', 'a', 'o', ' ', 't', 'h', 'a', 't', ' ', 'c', 'a', 'n', ' ', 'b', 'e', ' ', 's', 't', 'a', 't', 'e', 'd', ',', ' ', 'i', 's', ' ', 'n', 'o', 't', ' ', 't', 'h', 'e', ' ', 'e', 't', 'e', 'r', 'n', 'a', 'l', ' ', 'D', 'a', 'o', ';', '\\n', '\\n', 'T', 'h', 'e', ' ', 'n', 'a', 'm', 'e', ' ', 't', 'h', 'a', 't', ' ', 'c', 'a', 'n', ' ', 'b', 'e', ' ', 'n', 'a', 'm', 'e', 'd', ' ', 'i', 's', ' ', 'n', 'o', 't', ' ', 't', 'h', 'e', ' ', 'e', 't', 'e', 'r', 'n', 'a', 'l', ' ', 'n', 'a', 'm', 'e', '.', '\\n', '\\n', 'T', 'h', 'e', ' ', 'u', 'n', 'n', 'a', 'm', 'e', 'd', ' ', 'i', 's', ' ', 't', 'h', 'e', ' ', 'o', 'r', 'i', 'g', 'i', 'n', ' ', 'o', 'f', ' ', 'h', 'e', 'a', 'v', 'e', 'n', ' ', 'a', 'n', 'd', ' ', 'e', 'a', 'r', 't', 'h', ';', '\\n', '\\n', 'T', 'h', 'e', ' ', 'n', 'a', 'm', 'e', 'd', ' ', 'i', 's', ' ', 't', 'h', 'e', ' ', 'm', 'o', 't', 'h', 'e', 'r', ' ', 'o', 'f', ' ', 't', 'h', 'e', ' ', 'm', 'y', 'r', 'i', 'a', 'd', ' ', 't', 'h', 'i', 'n', 'g', 's', '.', '\\n', '\\n', 'T', 'h', 'e', 'r', 'e', 'f', 'o', 'r', 'e', ',', '\\n', '\\n', 'C', 'o', 'n', 's', 't', 'a', 'n', 't', 'l', 'y', ' ', 'h', 'a', 'v', 'i', 'n', 'g', ' ', 'n', 'o', ' ', 'd', 'e', 's', 'i', 'r', 'e', ' ', 'i', 'n', ' ', 'o', 'r', 'd', 'e', 'r', ' ', 't', 'o', ' ', 'v', 'i', 'e', 'w', ' ', 'i', 't', 's', ' ', 'c', 'o', 'm', 'm', 'e', 'n', 'c', 'e', 'm', 'e', 'n', 't', ';', '\\n', '\\n', 'C', 'o', 'n', 's', 't', 'a', 'n', 't', 'l', 'y', ' ', 'h', 'a', 'v', 'i', 'n', 'g', ' ', 'd', 'e', 's', 'i', 'r', 'e', ' ', 'i', 'n', ' ', 'o', 'r', 'd', 'e', 'r', ' ', 't', 'o', ' ', 'v', 'i', 'e', 'w', ' ', 'i', 't', 's', ' ', 't', 'e', 'r', 'm', 'i', 'n', 'a', 't', 'i', 'o', 'n', '.', '\\n', '\\n', 'T', 'h', 'e', 's', 'e', ' ', 't', 'w', 'o', ' ', 'h', 'a', 'v', 'e', ' ', 't', 'h', 'e', ' ', 's', 'a', 'm', 'e', ' ', 'o', 'r', 'i', 'g', 'i', 'n', ',', ' ', 'b', 'u', 't', ' ', 't', 'h', 'e', 'y', ' ', 'd', 'i', 'f', 'f', 'e', 'r', ' ', 'i', 'n', ' ', 'n', 'a', 'm', 'e', ';', '\\n', '\\n', 'B', 'o', 't', 'h', ' ', 'a', 'r', 'e', ' ', 'c', 'a', 'l', 'l', 'e', 'd', ' ', 'M', 'y', 's', 't', 'e', 'r', 'y', '.', '\\n', '\\n', 'M', 'y', 's', 't', 'e', 'r', 'y', ' ', 'a', 'f', 't', 'e', 'r', ' ', 'M', 'y', 's', 't', 'e', 'r', 'y', ',', ' ', 'i', 's', ' ', 't', 'h', 'e', ' ', 'g', 'a', 't', 'e', ' ', 't', 'o', ' ', 'a', 'l', 'l', ' ', 'w', 'o', 'n', 'd', 'e', 'r', 's', '.']\n",
      "Total length of characters on target text: 559\n"
     ]
    }
   ],
   "source": [
    "# Lets use the first chapter of the Tao Te Ching again as an example multiline\n",
    "# text\n",
    "\n",
    "# To make it not too hard, no we just need to find a way to serialize the text\n",
    "# into characters that can be turned back into the orginal text (ref., for this\n",
    "# we limit ourselves to English, because Chinese characters would take an\n",
    "# additional 3 characters to be endoced in decimal PER character)\n",
    "with open(\"data/tao_te_ching_only_en_first.txt\", 'r') as f:\n",
    "    text_content = f.readlines()\n",
    "\n",
    "# Arlight, so the text content is read in as a list, but since the new-lines are\n",
    "# stored, why not just split everything apart? In the original text-format it\n",
    "# will be correctly represented once writter like this as one big char-list\n",
    "print(text_content)\n",
    "\n",
    "# Bingo, and now once we join and print, the original text should be the same as\n",
    "# the newly extracted one\n",
    "char_list = [char for word in text_content for char in word]\n",
    "\n",
    "# Commenting this print to limit the jupyter notebook lenght\n",
    "print(char_list)\n",
    "\n",
    "# And they look exactly the same (I checked! ;))\n",
    "with open(\"data/tao_te_ching_only_en_first_rejoined.txt\", 'w') as f:\n",
    "    f.writelines(char_list)\n",
    "\n",
    "# Finally, we can see that the current text only takes around 495 characters, so\n",
    "# with the floats (NOTE: completely arbitrary btw, there are more than\n",
    "# the original 15000 I tried to select) that are available to us, we should have\n",
    "# more than enough space\n",
    "print(f\"Total length of characters on target text: {len(char_list)}\")"
   ]
  },
  {
   "cell_type": "code",
   "execution_count": 20,
   "metadata": {},
   "outputs": [
    {
     "name": "stdout",
     "output_type": "stream",
     "text": [
      "Encrypted text in ascii: gAAAAABlIm3PJoFGZnyjKZoSOoCso_HEima6Wy74nhBNwoRV5l1Ji14UzYF0U_xlB8NK_lreCuCYhajgl0QyuE0lI6qqU5pdjKIv1yl7Nh4X3fZ5TwacL66nJeBMEtaF0svjrstF_uTeOdPI11aQjbCYsWsWJYuYokOijGxAkiG1bH1BmerSZRzLsK1EtmyYJi1szm7cVtQDmrGlg79nh_81I-tLs_oNf93RnPvyOWkzokm5RWjm5g3T5_gDF51eNk31KFmt8AAb_N5ePAh_pKjghelvw4AmDVE5NdB9qJkWOtb6-V6SX5-lpU119dxY2z7KVXxRKhDWpCEDGmYdGXxFMozRCFLNgxc_zvuMCFLWbKyXkMTDp3W6ARii-jHmiOGxjNcvV0-g3mgc-qrR7l5dv45muRxGn08TJsgtlXR15vezEyn1ZAE5gLHn8tSqZ8R2jdExvxGguPjuWGO2N_ZCumwO_e6wY9DK6_jo24WpkCJCJ7FzshM410rk4YULylyEYMtC4ysNIGkBBKCuhkA2jNeMAk-h7vzV0uMErk1r-8GRRNHBCT3DfZ_wjZPS6s7NvSH5oLuucPOcxFupHW-tdAzKoKFixSdqnLGIly5Vs5mBljFMjum9y15LOkE26YiaTO1J3ZrNFAYGOQX3RpHF_2eNGULqhkQyeB3O0l6alPZn4fNF0QKfKzusdqCUCSkBPB7vPpKrZkfdJk1ewfL08R_FIFyZFPpAJEA8Tv4NyPVfDJlaHCV7tHVF4r_3QkAeB5L1sWBH4gNbUCRTo4WT3_PTbiM_WbOnjKiFtRvrJKOzCQ5L7C4=\n",
      "Encrypted char-list of text in ascii: ['g', 'A', 'A', 'A', 'A', 'A', 'B', 'l', 'I', 'm', '3', 'P', 'J', 'o', 'F', 'G', 'Z', 'n', 'y', 'j', 'K', 'Z', 'o', 'S', 'O', 'o', 'C', 's', 'o', '_', 'H', 'E', 'i', 'm', 'a', '6', 'W', 'y', '7', '4', 'n', 'h', 'B', 'N', 'w', 'o', 'R', 'V', '5', 'l', '1', 'J', 'i', '1', '4', 'U', 'z', 'Y', 'F', '0', 'U', '_', 'x', 'l', 'B', '8', 'N', 'K', '_', 'l', 'r', 'e', 'C', 'u', 'C', 'Y', 'h', 'a', 'j', 'g', 'l', '0', 'Q', 'y', 'u', 'E', '0', 'l', 'I', '6', 'q', 'q', 'U', '5', 'p', 'd', 'j', 'K', 'I', 'v', '1', 'y', 'l', '7', 'N', 'h', '4', 'X', '3', 'f', 'Z', '5', 'T', 'w', 'a', 'c', 'L', '6', '6', 'n', 'J', 'e', 'B', 'M', 'E', 't', 'a', 'F', '0', 's', 'v', 'j', 'r', 's', 't', 'F', '_', 'u', 'T', 'e', 'O', 'd', 'P', 'I', '1', '1', 'a', 'Q', 'j', 'b', 'C', 'Y', 's', 'W', 's', 'W', 'J', 'Y', 'u', 'Y', 'o', 'k', 'O', 'i', 'j', 'G', 'x', 'A', 'k', 'i', 'G', '1', 'b', 'H', '1', 'B', 'm', 'e', 'r', 'S', 'Z', 'R', 'z', 'L', 's', 'K', '1', 'E', 't', 'm', 'y', 'Y', 'J', 'i', '1', 's', 'z', 'm', '7', 'c', 'V', 't', 'Q', 'D', 'm', 'r', 'G', 'l', 'g', '7', '9', 'n', 'h', '_', '8', '1', 'I', '-', 't', 'L', 's', '_', 'o', 'N', 'f', '9', '3', 'R', 'n', 'P', 'v', 'y', 'O', 'W', 'k', 'z', 'o', 'k', 'm', '5', 'R', 'W', 'j', 'm', '5', 'g', '3', 'T', '5', '_', 'g', 'D', 'F', '5', '1', 'e', 'N', 'k', '3', '1', 'K', 'F', 'm', 't', '8', 'A', 'A', 'b', '_', 'N', '5', 'e', 'P', 'A', 'h', '_', 'p', 'K', 'j', 'g', 'h', 'e', 'l', 'v', 'w', '4', 'A', 'm', 'D', 'V', 'E', '5', 'N', 'd', 'B', '9', 'q', 'J', 'k', 'W', 'O', 't', 'b', '6', '-', 'V', '6', 'S', 'X', '5', '-', 'l', 'p', 'U', '1', '1', '9', 'd', 'x', 'Y', '2', 'z', '7', 'K', 'V', 'X', 'x', 'R', 'K', 'h', 'D', 'W', 'p', 'C', 'E', 'D', 'G', 'm', 'Y', 'd', 'G', 'X', 'x', 'F', 'M', 'o', 'z', 'R', 'C', 'F', 'L', 'N', 'g', 'x', 'c', '_', 'z', 'v', 'u', 'M', 'C', 'F', 'L', 'W', 'b', 'K', 'y', 'X', 'k', 'M', 'T', 'D', 'p', '3', 'W', '6', 'A', 'R', 'i', 'i', '-', 'j', 'H', 'm', 'i', 'O', 'G', 'x', 'j', 'N', 'c', 'v', 'V', '0', '-', 'g', '3', 'm', 'g', 'c', '-', 'q', 'r', 'R', '7', 'l', '5', 'd', 'v', '4', '5', 'm', 'u', 'R', 'x', 'G', 'n', '0', '8', 'T', 'J', 's', 'g', 't', 'l', 'X', 'R', '1', '5', 'v', 'e', 'z', 'E', 'y', 'n', '1', 'Z', 'A', 'E', '5', 'g', 'L', 'H', 'n', '8', 't', 'S', 'q', 'Z', '8', 'R', '2', 'j', 'd', 'E', 'x', 'v', 'x', 'G', 'g', 'u', 'P', 'j', 'u', 'W', 'G', 'O', '2', 'N', '_', 'Z', 'C', 'u', 'm', 'w', 'O', '_', 'e', '6', 'w', 'Y', '9', 'D', 'K', '6', '_', 'j', 'o', '2', '4', 'W', 'p', 'k', 'C', 'J', 'C', 'J', '7', 'F', 'z', 's', 'h', 'M', '4', '1', '0', 'r', 'k', '4', 'Y', 'U', 'L', 'y', 'l', 'y', 'E', 'Y', 'M', 't', 'C', '4', 'y', 's', 'N', 'I', 'G', 'k', 'B', 'B', 'K', 'C', 'u', 'h', 'k', 'A', '2', 'j', 'N', 'e', 'M', 'A', 'k', '-', 'h', '7', 'v', 'z', 'V', '0', 'u', 'M', 'E', 'r', 'k', '1', 'r', '-', '8', 'G', 'R', 'R', 'N', 'H', 'B', 'C', 'T', '3', 'D', 'f', 'Z', '_', 'w', 'j', 'Z', 'P', 'S', '6', 's', '7', 'N', 'v', 'S', 'H', '5', 'o', 'L', 'u', 'u', 'c', 'P', 'O', 'c', 'x', 'F', 'u', 'p', 'H', 'W', '-', 't', 'd', 'A', 'z', 'K', 'o', 'K', 'F', 'i', 'x', 'S', 'd', 'q', 'n', 'L', 'G', 'I', 'l', 'y', '5', 'V', 's', '5', 'm', 'B', 'l', 'j', 'F', 'M', 'j', 'u', 'm', '9', 'y', '1', '5', 'L', 'O', 'k', 'E', '2', '6', 'Y', 'i', 'a', 'T', 'O', '1', 'J', '3', 'Z', 'r', 'N', 'F', 'A', 'Y', 'G', 'O', 'Q', 'X', '3', 'R', 'p', 'H', 'F', '_', '2', 'e', 'N', 'G', 'U', 'L', 'q', 'h', 'k', 'Q', 'y', 'e', 'B', '3', 'O', '0', 'l', '6', 'a', 'l', 'P', 'Z', 'n', '4', 'f', 'N', 'F', '0', 'Q', 'K', 'f', 'K', 'z', 'u', 's', 'd', 'q', 'C', 'U', 'C', 'S', 'k', 'B', 'P', 'B', '7', 'v', 'P', 'p', 'K', 'r', 'Z', 'k', 'f', 'd', 'J', 'k', '1', 'e', 'w', 'f', 'L', '0', '8', 'R', '_', 'F', 'I', 'F', 'y', 'Z', 'F', 'P', 'p', 'A', 'J', 'E', 'A', '8', 'T', 'v', '4', 'N', 'y', 'P', 'V', 'f', 'D', 'J', 'l', 'a', 'H', 'C', 'V', '7', 't', 'H', 'V', 'F', '4', 'r', '_', '3', 'Q', 'k', 'A', 'e', 'B', '5', 'L', '1', 's', 'W', 'B', 'H', '4', 'g', 'N', 'b', 'U', 'C', 'R', 'T', 'o', '4', 'W', 'T', '3', '_', 'P', 'T', 'b', 'i', 'M', '_', 'W', 'b', 'O', 'n', 'j', 'K', 'i', 'F', 't', 'R', 'v', 'r', 'J', 'K', 'O', 'z', 'C', 'Q', '5', 'L', '7', 'C', '4', '=']\n",
      "b'Tao Te Ching\\n\\n                                           Laozi\\n\\nShang Pian\\n\\n\\nChapter 1\\n\\nThe Dao that can be stated, is not the eternal Dao;\\n\\nThe name that can be named is not the eternal name.\\n\\nThe unnamed is the origin of heaven and earth;\\n\\nThe named is the mother of the myriad things.\\n\\nTherefore,\\n\\nConstantly having no desire in order to view its commencement;\\n\\nConstantly having desire in order to view its termination.\\n\\nThese two have the same origin, but they differ in name;\\n\\nBoth are called Mystery.\\n\\nMystery after Mystery, is the gate to all wonders.'\n",
      "Decrypted text in ascii:\n",
      "Tao Te Ching\n",
      "\n",
      "                                           Laozi\n",
      "\n",
      "Shang Pian\n",
      "\n",
      "\n",
      "Chapter 1\n",
      "\n",
      "The Dao that can be stated, is not the eternal Dao;\n",
      "\n",
      "The name that can be named is not the eternal name.\n",
      "\n",
      "The unnamed is the origin of heaven and earth;\n",
      "\n",
      "The named is the mother of the myriad things.\n",
      "\n",
      "Therefore,\n",
      "\n",
      "Constantly having no desire in order to view its commencement;\n",
      "\n",
      "Constantly having desire in order to view its termination.\n",
      "\n",
      "These two have the same origin, but they differ in name;\n",
      "\n",
      "Both are called Mystery.\n",
      "\n",
      "Mystery after Mystery, is the gate to all wonders.\n"
     ]
    }
   ],
   "source": [
    "# I guess we'll first have to join the charlist to a text-string, because the\n",
    "# Fernet-symmetric cryptography algorithm doesn't take lists. This is just to\n",
    "# see if we can encrypt the char-list our method expects, and decrypt it later\n",
    "def symmetric_enc_text(char_list):\n",
    "    from cryptography.fernet import Fernet\n",
    "    key = Fernet.generate_key()\n",
    "    f = Fernet(key)\n",
    "\n",
    "    temp_text = \"\".join(char_list)\n",
    "    enc_text = f.encrypt(temp_text.encode('ascii'))\n",
    "    # Okay, so this is the encrypted text-representation\n",
    "    print(f\"Encrypted text in ascii: {enc_text.decode('ascii')}\")\n",
    "    enc_char_list = [char for word in enc_text.decode('ascii') for char in word]\n",
    "    # This is the char-list representation of the encrypted text, so this is\n",
    "    # what we need to push through to our stegoml-algorithm\n",
    "    print(f\"Encrypted char-list of text in ascii: {enc_char_list}\")\n",
    "    temp_text = \"\".join(enc_char_list)\n",
    "    new_enc_text = temp_text.encode('ascii')\n",
    "    decrypt_text = f.decrypt(new_enc_text)\n",
    "    print(decrypt_text)\n",
    "    # And it does work, yay!\n",
    "    print(f\"Decrypted text in ascii:\\n{decrypt_text.decode('ascii')}\")\n",
    "\n",
    "symmetric_enc_text(char_list)"
   ]
  },
  {
   "cell_type": "code",
   "execution_count": 21,
   "metadata": {},
   "outputs": [],
   "source": [
    "# So lets now write the encryption and decryption fuctions which we will use\n",
    "# before injecting our char_list in the NN-weights\n",
    "def encrypt_text (char_list):\n",
    "    from cryptography.fernet import Fernet\n",
    "    key = Fernet.generate_key()\n",
    "    f = Fernet(key)\n",
    "\n",
    "    temp_text = \"\".join(char_list)\n",
    "    enc_text = f.encrypt(temp_text.encode('ascii'))\n",
    "    enc_char_list = [char for word in enc_text.decode('ascii') for char in word]\n",
    "    return key, enc_char_list\n",
    "\n",
    "def decrypt_text(key, enc_char_list):\n",
    "    from cryptography.fernet import Fernet\n",
    "    key = key\n",
    "    f = Fernet(key)\n",
    "\n",
    "    temp_text = \"\".join(enc_char_list)\n",
    "    new_enc_text = temp_text.encode('ascii')\n",
    "    decrypt_text = f.decrypt(new_enc_text)\n",
    "    dec_char_list = [char for word in decrypt_text.decode('ascii') for char in word]\n",
    "    return dec_char_list"
   ]
  },
  {
   "cell_type": "code",
   "execution_count": 22,
   "metadata": {},
   "outputs": [],
   "source": [
    "# So let's first encrypt our text, and make our key globably available (ref., I\n",
    "# know, I'm the worst)\n",
    "key, enc_char_list = encrypt_text(char_list)"
   ]
  },
  {
   "cell_type": "code",
   "execution_count": 23,
   "metadata": {},
   "outputs": [
    {
     "name": "stdout",
     "output_type": "stream",
     "text": [
      "=|61 --> 0.02145833 --> 0.06145833: float-id = 755\n",
      "M|77 --> 0.04843139 --> 0.07743139: float-id = 715\n",
      "h|104 --> 0.01765401 --> 0.10465401: float-id = 663\n",
      "D|68 --> 0.07440829 --> 0.06840829: float-id = 629\n",
      "_|95 --> 0.06759074 --> 0.09559074: float-id = 612\n",
      "n|110 --> 0.09178548 --> 0.11078548: float-id = 609\n",
      "C|67 --> 0.09977253 --> 0.06777253: float-id = 600\n",
      "q|113 --> 0.10996154 --> 0.11396154: float-id = 593\n",
      "8|56 --> 0.04616015 --> 0.05616015: float-id = 577\n",
      "e|101 --> 0.04035511 --> 0.10135511: float-id = 567\n",
      "I|73 --> 0.05599718 --> 0.07399718: float-id = 472\n",
      "s|115 --> 0.07234632 --> 0.11534632: float-id = 457\n",
      "z|122 --> 0.04578853 --> 0.12278853: float-id = 437\n",
      "9|57 --> 0.03993334 --> 0.05793334: float-id = 423\n",
      "w|119 --> 0.07778168 --> 0.11978168: float-id = 415\n",
      "m|109 --> 0.09294542 --> 0.10994542: float-id = 395\n",
      "g|103 --> 0.03350865 --> 0.10350865: float-id = 391\n",
      "i|105 --> 0.02858971 --> 0.10558971: float-id = 359\n",
      "h|104 --> 0.0391602 --> 0.1041602: float-id = 305\n",
      "Q|81 --> 0.05455287 --> 0.08155287: float-id = 286\n",
      "_|95 --> 0.05756466 --> 0.09556466: float-id = 251\n",
      "d|100 --> 0.08068481 --> 0.10068481: float-id = 239\n",
      "u|117 --> 0.02793172 --> 0.11793172: float-id = 226\n",
      "K|75 --> 6.8731e-05 --> 6.0751e-05: float-id = 215\n",
      "v|118 --> 0.08523354 --> 0.11823354: float-id = 191\n",
      "s|115 --> 0.12764703 --> 0.11564703: float-id = 114\n",
      "q|113 --> 0.08418815 --> 0.11318815: float-id = 98\n",
      "k|107 --> 0.0653894 --> 0.1073894: float-id = 68\n",
      "0|48 --> 0.03836839 --> 0.04836839: float-id = 23\n",
      "t|116 --> 0.03772669 --> 0.11672669: float-id = 750\n",
      "s|115 --> 0.06381357 --> 0.11581357: float-id = 672\n",
      "U|85 --> 0.0871525 --> 0.0851525: float-id = 647\n",
      "N|78 --> 0.07720014 --> 0.07820014: float-id = 636\n",
      "8|56 --> 0.0767694 --> 0.0567694: float-id = 609\n",
      "r|114 --> 0.06911633 --> 0.11411633: float-id = 600\n",
      "-|45 --> 0.03881784 --> 0.04581784: float-id = 566\n",
      "v|118 --> 0.01884604 --> 0.11884604: float-id = 554\n",
      "w|119 --> 0.07820448 --> 0.11920448: float-id = 523\n",
      "G|71 --> 0.02447793 --> 0.07147793: float-id = 494\n",
      "Q|81 --> 0.10364918 --> 0.08164918: float-id = 251\n",
      "F|70 --> 0.03268057 --> 0.07068057: float-id = 169\n",
      "e|101 --> 0.00513626 --> 0.10113626: float-id = 135\n",
      "K|75 --> 0.05661263 --> 0.07561263: float-id = 114\n",
      "B|66 --> 0.02835054 --> 0.06635054: float-id = 27\n",
      "7|55 --> 0.03942544 --> 0.05542544: float-id = 761\n",
      "D|68 --> 0.08611867 --> 0.06811867: float-id = 717\n",
      "q|113 --> 0.01901909 --> 0.11301909: float-id = 710\n",
      "F|70 --> 0.12035512 --> 0.07035512: float-id = 647\n",
      "0|48 --> 0.10982874 --> 0.04882874: float-id = 609\n",
      "Z|90 --> 0.0951704 --> 0.0901704: float-id = 600\n",
      "K|75 --> 0.06711946 --> 0.07511946: float-id = 593\n",
      "b|98 --> 0.03803814 --> 0.09803814: float-id = 556\n",
      "r|114 --> 0.09029373 --> 0.11429373: float-id = 553\n",
      "Q|81 --> 0.03134856 --> 0.08134856: float-id = 530\n",
      "D|68 --> 0.09210149 --> 0.06810149: float-id = 520\n",
      "A|65 --> 0.04632939 --> 0.06532939: float-id = 514\n",
      "O|79 --> 0.04093841 --> 0.07993841: float-id = 495\n",
      "6|54 --> 0.03593948 --> 0.05493948: float-id = 484\n",
      "x|120 --> 0.07208523 --> 0.12008523: float-id = 477\n",
      "n|110 --> 0.08071214 --> 0.11071214: float-id = 472\n",
      "V|86 --> 0.07269946 --> 0.08669946: float-id = 460\n",
      "d|100 --> 0.10773718 --> 0.10073718: float-id = 457\n",
      "t|116 --> 0.08955638 --> 0.11655638: float-id = 415\n",
      "c|99 --> 0.01662852 --> 0.09962852: float-id = 380\n",
      "F|70 --> 0.07480386 --> 0.07080386: float-id = 286\n",
      "T|84 --> 0.01619607 --> 0.08419607: float-id = 272\n",
      "s|115 --> 0.00472892 --> 0.11572892: float-id = 260\n",
      "8|56 --> 0.14199834 --> 0.05699834: float-id = 239\n",
      "r|114 --> 0.08012778 --> 0.11412778: float-id = 224\n",
      "0|48 --> 0.06319664 --> 0.04819664: float-id = 223\n",
      "f|102 --> 0.06611282 --> 0.10211282: float-id = 186\n",
      "D|68 --> 0.00632704 --> 0.06832704: float-id = 165\n",
      "M|77 --> 0.04223778 --> 0.07723778: float-id = 132\n",
      "5|53 --> 0.08205948 --> 0.05305948: float-id = 69\n",
      "l|108 --> 0.03129302 --> 0.10829302: float-id = 46\n",
      "D|68 --> 0.042219 --> 0.068219: float-id = 742\n",
      "B|66 --> 0.08378807 --> 0.06678807: float-id = 715\n",
      "n|110 --> 0.06151346 --> 0.11051346: float-id = 691\n",
      "E|69 --> 0.03951996 --> 0.06951996: float-id = 672\n",
      "y|121 --> 0.14002119 --> 0.12102119: float-id = 647\n",
      "C|67 --> 0.06994674 --> 0.06794674: float-id = 640\n",
      "v|118 --> 0.09233018 --> 0.11833018: float-id = 636\n",
      "C|67 --> 0.04109583 --> 0.06709583: float-id = 630\n",
      "k|107 --> 0.03680557 --> 0.10780557: float-id = 629\n",
      "P|80 --> 0.10263911 --> 0.08063911: float-id = 600\n",
      "n|110 --> 0.12882294 --> 0.11082294: float-id = 593\n",
      "c|99 --> 0.06515045 --> 0.09915045: float-id = 553\n",
      "4|52 --> 0.10939146 --> 0.05239146: float-id = 485\n",
      "P|80 --> 0.03611684 --> 0.08011684: float-id = 479\n",
      "5|53 --> 0.06314281 --> 0.05314281: float-id = 449\n",
      "5|53 --> 0.02215922 --> 0.05315922: float-id = 420\n",
      "f|102 --> 0.01034646 --> 0.10234646: float-id = 393\n",
      "Q|81 --> 0.05368751 --> 0.08168751: float-id = 369\n",
      "I|73 --> 0.08529321 --> 0.07329321: float-id = 325\n",
      "X|88 --> 0.06830493 --> 0.08830493: float-id = 307\n",
      "u|117 --> 0.02128161 --> 0.11728161: float-id = 273\n",
      "v|118 --> 0.02227588 --> 0.11827588: float-id = 239\n",
      "-|45 --> 0.07547608 --> 0.04547608: float-id = 227\n",
      "U|85 --> 0.06682295 --> 0.08582295: float-id = 223\n",
      "U|85 --> 0.0359209 --> 0.0859209: float-id = 183\n",
      "1|49 --> 0.05226224 --> 0.04926224: float-id = 154\n",
      "7|55 --> 0.08050724 --> 0.05550724: float-id = 114\n",
      "b|98 --> 0.00524262 --> 0.09824262: float-id = 22\n",
      "K|75 --> 0.13449666 --> 0.07549666: float-id = 715\n",
      "A|65 --> 0.1466842 --> 0.0656842: float-id = 706\n",
      "j|106 --> 0.06007749 --> 0.10607749: float-id = 703\n",
      "r|114 --> 0.1430024 --> 0.1140024: float-id = 691\n",
      "p|112 --> 0.03543497 --> 0.11243497: float-id = 678\n",
      "3|51 --> 0.16215432 --> 0.05115432: float-id = 672\n",
      "5|53 --> 0.12908392 --> 0.05308392: float-id = 647\n",
      "6|54 --> 0.07655626 --> 0.05455626: float-id = 636\n",
      "U|85 --> 0.13050376 --> 0.08550376: float-id = 629\n",
      "T|84 --> 0.10395753 --> 0.08495753: float-id = 609\n",
      "p|112 --> 0.13942139 --> 0.11242139: float-id = 600\n",
      "h|104 --> 0.09936788 --> 0.10436788: float-id = 593\n",
      "h|104 --> 0.06665974 --> 0.10465974: float-id = 566\n",
      "u|117 --> 0.08626809 --> 0.11726809: float-id = 553\n",
      "t|116 --> 0.07020309 --> 0.11620309: float-id = 552\n",
      "E|69 --> 0.07650179 --> 0.06950179: float-id = 550\n",
      "z|122 --> 0.09395932 --> 0.12295932: float-id = 523\n",
      "9|57 --> 0.10999114 --> 0.05799114: float-id = 519\n",
      "A|65 --> 0.03795331 --> 0.06595331: float-id = 517\n",
      "3|51 --> 0.01638549 --> 0.05138549: float-id = 467\n",
      "T|84 --> 0.13768937 --> 0.08468937: float-id = 460\n",
      "1|49 --> 0.13650025 --> 0.04950025: float-id = 457\n",
      "-|45 --> 0.12677732 --> 0.04577732: float-id = 449\n",
      "Q|81 --> 0.03175481 --> 0.08175481: float-id = 429\n",
      "y|121 --> 0.20083146 --> 0.12183146: float-id = 415\n",
      "M|77 --> 0.0436184 --> 0.0776184: float-id = 389\n",
      "Y|89 --> 0.02806825 --> 0.08906825: float-id = 342\n",
      "b|98 --> 0.05783616 --> 0.09883616: float-id = 332\n",
      "w|119 --> 0.11466184 --> 0.11966184: float-id = 325\n",
      "p|112 --> 0.01605958 --> 0.11205958: float-id = 323\n",
      "D|68 --> 0.04158304 --> 0.06858304: float-id = 292\n",
      "z|122 --> 0.14526525 --> 0.12226525: float-id = 286\n",
      "K|75 --> 0.07910361 --> 0.07510361: float-id = 251\n",
      "D|68 --> 0.18776919 --> 0.06876919: float-id = 239\n",
      "v|118 --> 0.12336574 --> 0.11836574: float-id = 227\n",
      "_|95 --> 0.1067934 --> 0.0957934: float-id = 191\n",
      "t|116 --> 0.00511358 --> 0.11611358: float-id = 186\n",
      "G|71 --> 0.0492353 --> 0.0712353: float-id = 154\n",
      "5|53 --> 0.12984167 --> 0.05384167: float-id = 114\n",
      "R|82 --> 0.1821362 --> 0.0821362: float-id = 98\n",
      "s|115 --> 0.03993714 --> 0.11593714: float-id = 76\n",
      "o|111 --> 0.02697559 --> 0.11197559: float-id = 5\n",
      "a|97 --> 0.00996372 --> 0.09796372: float-id = 766\n",
      "Y|89 --> 0.16723499 --> 0.08923499: float-id = 672\n",
      "T|84 --> 0.06867062 --> 0.08467062: float-id = 663\n",
      "a|97 --> 0.15715863 --> 0.09715863: float-id = 647\n",
      "6|54 --> 0.03648235 --> 0.05448235: float-id = 588\n",
      "s|115 --> 0.03922557 --> 0.11522557: float-id = 578\n",
      "5|53 --> 0.11255234 --> 0.05355234: float-id = 523\n",
      "q|113 --> 0.06052323 --> 0.11352323: float-id = 497\n",
      "B|66 --> 0.07110418 --> 0.06610418: float-id = 423\n",
      "W|87 --> 0.1345018 --> 0.0875018: float-id = 325\n",
      "I|73 --> 0.00765287 --> 0.07365287: float-id = 305\n",
      "_|95 --> 0.01667855 --> 0.09567855: float-id = 295\n",
      "_|95 --> 0.07476056 --> 0.09576056: float-id = 286\n",
      "4|52 --> 0.04520096 --> 0.05220096: float-id = 243\n",
      "i|105 --> 0.13486521 --> 0.10586521: float-id = 239\n",
      "R|82 --> 0.07820719 --> 0.08220719: float-id = 227\n",
      "N|78 --> 0.0114693 --> 0.0784693: float-id = 213\n",
      "q|113 --> 0.17208546 --> 0.11308546: float-id = 191\n",
      "S|83 --> 0.06370063 --> 0.08370063: float-id = 185\n",
      "y|121 --> 0.05045163 --> 0.12145163: float-id = 154\n",
      "q|113 --> 0.10497848 --> 0.11397848: float-id = 114\n",
      "V|86 --> 0.05085967 --> 0.08685967: float-id = 95\n",
      "R|82 --> 0.0679438 --> 0.0829438: float-id = 79\n",
      "L|76 --> 0.02464528 --> 0.07664528: float-id = 42\n",
      "Y|89 --> 0.09936346 --> 0.08936346: float-id = 29\n",
      "K|75 --> 0.06149462 --> 0.07549462: float-id = 16\n",
      "6|54 --> 0.02217784 --> 0.05417784: float-id = 749\n",
      "d|100 --> 0.02009441 --> 0.10009441: float-id = 725\n",
      "D|68 --> 0.09595257 --> 0.06895257: float-id = 715\n",
      "T|84 --> 0.05910913 --> 0.08410913: float-id = 691\n",
      "J|74 --> 0.13599579 --> 0.07499579: float-id = 672\n",
      "B|66 --> 0.07840365 --> 0.06640365: float-id = 663\n",
      "k|107 --> 0.15717548 --> 0.10717548: float-id = 647\n",
      "X|88 --> 0.09672118 --> 0.08872118: float-id = 636\n",
      "x|120 --> 0.03343548 --> 0.12043548: float-id = 633\n",
      "p|112 --> 0.10570458 --> 0.11270458: float-id = 629\n",
      "r|114 --> 0.03688612 --> 0.11488612: float-id = 619\n",
      "K|75 --> 0.07116151 --> 0.07516151: float-id = 609\n",
      "o|111 --> 0.03522734 --> 0.11122734: float-id = 596\n",
      "f|102 --> 0.08490392 --> 0.10290392: float-id = 593\n",
      "u|117 --> 0.0642623 --> 0.1172623: float-id = 588\n",
      "o|111 --> 0.07933244 --> 0.11133244: float-id = 550\n",
      "t|116 --> 0.03330891 --> 0.11630891: float-id = 533\n",
      "1|49 --> 0.113946 --> 0.049946: float-id = 523\n",
      "I|73 --> 0.02351313 --> 0.07351313: float-id = 510\n",
      "8|56 --> 0.03657972 --> 0.05657972: float-id = 480\n",
      "f|102 --> 0.03962935 --> 0.10262935: float-id = 477\n",
      "w|119 --> 0.11542205 --> 0.11942205: float-id = 457\n",
      "W|87 --> 0.06810039 --> 0.08710039: float-id = 449\n",
      "X|88 --> 0.04103965 --> 0.08803965: float-id = 447\n",
      "0|48 --> 0.03550945 --> 0.04850945: float-id = 446\n",
      "i|105 --> 0.09138255 --> 0.10538255: float-id = 423\n",
      "Q|81 --> 0.06504587 --> 0.08104587: float-id = 415\n",
      "3|51 --> 0.03477422 --> 0.05177422: float-id = 372\n",
      "C|67 --> 0.07057712 --> 0.06757712: float-id = 325\n",
      "9|57 --> 0.07394471 --> 0.05794471: float-id = 286\n",
      "N|78 --> 0.1298223 --> 0.0788223: float-id = 251\n",
      "1|49 --> 0.09313334 --> 0.04913334: float-id = 239\n",
      "l|108 --> 0.09685969 --> 0.10885969: float-id = 227\n",
      "2|50 --> 0.01125116 --> 0.05025116: float-id = 208\n",
      "8|56 --> 0.03468003 --> 0.05668003: float-id = 203\n",
      "F|70 --> 0.03726559 --> 0.07026559: float-id = 190\n",
      "B|66 --> 0.01565337 --> 0.06665337: float-id = 166\n",
      "v|118 --> 0.09815263 --> 0.11815263: float-id = 154\n",
      "4|52 --> 0.03326156 --> 0.05226156: float-id = 140\n",
      "X|88 --> 0.09243341 --> 0.08843341: float-id = 647\n",
      "h|104 --> 0.02523714 --> 0.10423714: float-id = 638\n",
      "M|77 --> 0.00977199 --> 0.07777199: float-id = 612\n",
      "g|103 --> 0.11482229 --> 0.10382229: float-id = 609\n",
      "H|72 --> 0.11607272 --> 0.07207272: float-id = 593\n",
      "b|98 --> 0.06088956 --> 0.09888956: float-id = 584\n",
      "Y|89 --> 0.05003499 --> 0.08903499: float-id = 485\n",
      "4|52 --> 0.08560685 --> 0.05260685: float-id = 449\n",
      "Q|81 --> 0.0667798 --> 0.0817798: float-id = 415\n",
      "O|79 --> 0.03622236 --> 0.07922236: float-id = 314\n",
      "y|121 --> 0.05768347 --> 0.12168347: float-id = 307\n",
      "S|83 --> 0.11362009 --> 0.08362009: float-id = 286\n",
      "d|100 --> 0.03071308 --> 0.10071308: float-id = 271\n",
      "W|87 --> 0.02894662 --> 0.08794662: float-id = 251\n",
      "_|95 --> 0.01684596 --> 0.09584596: float-id = 242\n",
      "S|83 --> 0.07251533 --> 0.08351533: float-id = 223\n",
      "k|107 --> 0.10026005 --> 0.10726005: float-id = 191\n",
      "J|74 --> 0.07615187 --> 0.07415187: float-id = 114\n",
      "j|106 --> 0.06256627 --> 0.10656627: float-id = 69\n",
      "P|80 --> 0.06033326 --> 0.08033326: float-id = 26\n",
      "-|45 --> 0.04196959 --> 0.04596959: float-id = 716\n",
      "B|66 --> 0.05143886 --> 0.06643886: float-id = 715\n",
      "d|100 --> 0.08537345 --> 0.10037345: float-id = 663\n",
      "O|79 --> 0.08940178 --> 0.07940178: float-id = 636\n",
      "1|49 --> 0.04930638 --> 0.04930638: float-id = 629\n",
      "U|85 --> 0.10512465 --> 0.08512465: float-id = 553\n",
      "y|121 --> 0.04953615 --> 0.12153615: float-id = 523\n",
      "c|99 --> 0.02980412 --> 0.09980412: float-id = 506\n",
      "p|112 --> 0.045739 --> 0.112739: float-id = 485\n",
      "F|70 --> 0.0695873 --> 0.0705873: float-id = 449\n",
      "P|80 --> 0.08610069 --> 0.08010069: float-id = 423\n",
      "7|55 --> 0.06988131 --> 0.05588131: float-id = 415\n",
      "U|85 --> 0.01046326 --> 0.08546326: float-id = 351\n",
      "L|76 --> 0.07624211 --> 0.07624211: float-id = 325\n",
      "S|83 --> 0.06555669 --> 0.08355669: float-id = 286\n",
      "n|110 --> 0.07603296 --> 0.11003296: float-id = 239\n",
      "j|106 --> 0.04201612 --> 0.10601612: float-id = 222\n",
      "u|117 --> 0.04953346 --> 0.11753346: float-id = 203\n",
      "q|113 --> 0.06476115 --> 0.11376115: float-id = 191\n",
      "E|69 --> 0.05066493 --> 0.06966493: float-id = 114\n",
      "b|98 --> 0.06248376 --> 0.09848376: float-id = 745\n",
      "R|82 --> 0.00842239 --> 0.08242239: float-id = 740\n",
      "q|113 --> 0.07672346 --> 0.11372346: float-id = 706\n",
      "0|48 --> 0.07207682 --> 0.04807682: float-id = 672\n",
      "A|65 --> 0.0353822 --> 0.0653822: float-id = 656\n",
      "u|117 --> 0.12716132 --> 0.11716132: float-id = 636\n",
      "s|115 --> 0.03136424 --> 0.11536424: float-id = 633\n",
      "C|67 --> 0.11838048 --> 0.06738048: float-id = 609\n",
      "b|98 --> 0.08651574 --> 0.09851574: float-id = 600\n",
      "f|102 --> 0.0865867 --> 0.1025867: float-id = 593\n",
      "h|104 --> 0.03864022 --> 0.10464022: float-id = 485\n",
      "F|70 --> 0.05916911 --> 0.07016911: float-id = 449\n",
      "w|119 --> 0.03240138 --> 0.11940138: float-id = 431\n",
      "o|111 --> 0.09767766 --> 0.11167766: float-id = 415\n",
      "m|109 --> 0.01739181 --> 0.10939181: float-id = 328\n",
      "O|79 --> 0.07327114 --> 0.07927114: float-id = 286\n",
      "R|82 --> 0.02326608 --> 0.08226608: float-id = 141\n",
      "v|118 --> 0.08016464 --> 0.11816464: float-id = 114\n",
      "g|103 --> 0.02116616 --> 0.10316616: float-id = 43\n",
      "l|108 --> 0.07132413 --> 0.10832413: float-id = 647\n",
      "r|114 --> 0.096594 --> 0.114594: float-id = 636\n",
      "J|74 --> 0.07539557 --> 0.07439557: float-id = 609\n",
      "E|69 --> 0.09160935 --> 0.06960935: float-id = 593\n",
      "m|109 --> 0.03881412 --> 0.10981412: float-id = 584\n",
      "Q|81 --> 0.06889969 --> 0.08189969: float-id = 496\n",
      "b|98 --> 0.05575915 --> 0.09875915: float-id = 477\n",
      "p|112 --> 0.10795883 --> 0.11295883: float-id = 449\n",
      "v|118 --> 0.01806555 --> 0.11806555: float-id = 425\n",
      "g|103 --> 0.00288762 --> 0.10388762: float-id = 394\n",
      "E|69 --> 0.0814485 --> 0.0694485: float-id = 307\n",
      "H|72 --> 0.0920597 --> 0.0720597: float-id = 286\n",
      "H|72 --> 0.03780792 --> 0.07280792: float-id = 285\n",
      "s|115 --> 0.07965078 --> 0.11565078: float-id = 239\n",
      "6|54 --> 0.03845271 --> 0.05445271: float-id = 232\n",
      "E|69 --> 0.03620061 --> 0.06920061: float-id = 227\n",
      "m|109 --> 0.00981947 --> 0.10981947: float-id = 222\n",
      "5|53 --> 0.05005429 --> 0.05305429: float-id = 191\n",
      "x|120 --> 0.09336917 --> 0.12036917: float-id = 154\n",
      "W|87 --> 0.06683451 --> 0.08783451: float-id = 114\n",
      "O|79 --> 0.03337152 --> 0.07937152: float-id = 50\n",
      "X|88 --> 0.02664323 --> 0.08864323: float-id = 721\n",
      "P|80 --> 0.03331476 --> 0.08031476: float-id = 719\n",
      "L|76 --> 0.08696417 --> 0.07696417: float-id = 691\n",
      "q|113 --> 0.07561872 --> 0.11361872: float-id = 672\n",
      "o|111 --> 0.04207472 --> 0.11107472: float-id = 667\n",
      "m|109 --> 0.17362666 --> 0.10962666: float-id = 647\n",
      "J|74 --> 0.09029474 --> 0.07429474: float-id = 636\n",
      "0|48 --> 0.06174251 --> 0.04874251: float-id = 633\n",
      "x|120 --> 0.03840293 --> 0.12040293: float-id = 620\n",
      "t|116 --> 0.13321266 --> 0.11621266: float-id = 600\n",
      "I|73 --> 0.15060213 --> 0.07360213: float-id = 566\n",
      "S|83 --> 0.04297894 --> 0.08397894: float-id = 493\n",
      "P|80 --> 0.03564666 --> 0.08064666: float-id = 478\n",
      "y|121 --> 0.07972269 --> 0.12172269: float-id = 437\n",
      "R|82 --> 0.08475263 --> 0.08275263: float-id = 423\n",
      "p|112 --> 0.06596902 --> 0.11296902: float-id = 415\n",
      "1|49 --> 0.05213578 --> 0.04913578: float-id = 369\n",
      "o|111 --> 0.09801066 --> 0.11101066: float-id = 325\n",
      "E|69 --> 0.085292 --> 0.069292: float-id = 251\n",
      "f|102 --> 0.00382132 --> 0.10282132: float-id = 246\n",
      "4|52 --> 0.07485291 --> 0.05285291: float-id = 227\n",
      "L|76 --> 0.03941488 --> 0.07641488: float-id = 226\n",
      "O|79 --> 0.09533576 --> 0.07933576: float-id = 191\n",
      "w|119 --> 0.04448415 --> 0.11948415: float-id = 170\n",
      "B|66 --> 0.06229327 --> 0.06629327: float-id = 124\n",
      "b|98 --> 0.12281052 --> 0.09881052: float-id = 114\n",
      "l|108 --> 0.06824761 --> 0.10824761: float-id = 98\n",
      "e|101 --> 0.01298132 --> 0.10198132: float-id = 764\n",
      "z|122 --> 0.02947532 --> 0.12247532: float-id = 734\n",
      "b|98 --> 0.00905268 --> 0.09805268: float-id = 725\n",
      "G|71 --> 0.02116638 --> 0.07116638: float-id = 699\n",
      "7|55 --> 0.0156846 --> 0.0556846: float-id = 688\n",
      "B|66 --> 0.01775153 --> 0.06675153: float-id = 687\n",
      "H|72 --> 0.13857058 --> 0.07257058: float-id = 672\n",
      "j|106 --> 0.10225453 --> 0.10625453: float-id = 666\n",
      "y|121 --> 0.19326283 --> 0.12126283: float-id = 647\n",
      "h|104 --> 0.08349468 --> 0.10449468: float-id = 636\n",
      "e|101 --> 0.0686385 --> 0.1016385: float-id = 630\n",
      "n|110 --> 0.08927966 --> 0.11027966: float-id = 629\n",
      "P|80 --> 0.10488103 --> 0.08088103: float-id = 609\n",
      "q|113 --> 0.04410792 --> 0.11310792: float-id = 604\n",
      "x|120 --> 0.04833492 --> 0.12033492: float-id = 596\n",
      "-|45 --> 0.03025745 --> 0.04525745: float-id = 567\n",
      "-|45 --> 0.0482954 --> 0.0452954: float-id = 550\n",
      "u|117 --> 0.16156672 --> 0.11756672: float-id = 523\n",
      "s|115 --> 0.06776469 --> 0.11576469: float-id = 506\n",
      "N|78 --> 0.0492783 --> 0.0782783: float-id = 496\n",
      "K|75 --> 0.11095276 --> 0.07595276: float-id = 457\n",
      "r|114 --> 0.03321366 --> 0.11421366: float-id = 455\n",
      "_|95 --> 0.04039102 --> 0.09539102: float-id = 449\n",
      "n|110 --> 0.05845677 --> 0.11045677: float-id = 443\n",
      "y|121 --> 0.04096878 --> 0.12196878: float-id = 439\n",
      "7|55 --> 0.04022938 --> 0.05522938: float-id = 429\n",
      "2|50 --> 0.09114225 --> 0.05014225: float-id = 381\n",
      "v|118 --> 0.13901566 --> 0.11801566: float-id = 325\n",
      "x|120 --> 0.0391972 --> 0.1201972: float-id = 300\n",
      "A|65 --> 0.03995422 --> 0.06595422: float-id = 255\n",
      "C|67 --> 0.14068592 --> 0.06768592: float-id = 239\n",
      "o|111 --> 0.12880518 --> 0.11180518: float-id = 227\n",
      "8|56 --> 0.13078727 --> 0.05678727: float-id = 223\n",
      "8|56 --> 0.05294695 --> 0.05694695: float-id = 164\n",
      "f|102 --> 0.08197939 --> 0.10297939: float-id = 154\n",
      "j|106 --> 0.09352504 --> 0.10652504: float-id = 88\n",
      "1|49 --> 0.06951544 --> 0.04951544: float-id = 73\n",
      "y|121 --> 0.01091256 --> 0.12191256: float-id = 61\n",
      "w|119 --> 0.06506423 --> 0.11906423: float-id = 52\n",
      "e|101 --> 0.02918775 --> 0.10118775: float-id = 43\n",
      "u|117 --> 0.03424596 --> 0.11724596: float-id = 39\n",
      "4|52 --> 0.00563354 --> 0.05263354: float-id = 18\n",
      "P|80 --> 0.09360424 --> 0.08060424: float-id = 7\n",
      "0|48 --> 0.06483654 --> 0.04883654: float-id = 751\n",
      "9|57 --> 0.03629188 --> 0.05729188: float-id = 722\n",
      "P|80 --> 0.05917614 --> 0.08017614: float-id = 691\n",
      "3|51 --> 0.02538554 --> 0.05138554: float-id = 682\n",
      "m|109 --> 0.03139193 --> 0.10939193: float-id = 659\n",
      "l|108 --> 0.14004612 --> 0.10804612: float-id = 647\n",
      "A|65 --> 0.09753933 --> 0.06553933: float-id = 636\n",
      "A|65 --> 0.06158358 --> 0.06558358: float-id = 629\n",
      "A|65 --> 0.06601788 --> 0.06501788: float-id = 593\n",
      "Tao Te Ching\n",
      "\n",
      "                                           Laozi\n",
      "\n",
      "Shang Pian\n",
      "\n",
      "\n",
      "Chapter 1\n",
      "\n",
      "The Dao that can be stated, is not the eternal Dao;\n",
      "\n",
      "The name that can be named is not the eternal name.\n",
      "\n",
      "The unnamed is the origin of heaven and earth;\n",
      "\n",
      "The named is the mother of the myriad things.\n",
      "\n",
      "Therefore,\n",
      "\n",
      "Constantly having no desire in order to view its commencement;\n",
      "\n",
      "Constantly having desire in order to view its termination.\n",
      "\n",
      "These two have the same origin, but they differ in name;\n",
      "\n",
      "Both are called Mystery.\n",
      "\n",
      "Mystery after Mystery, is the gate to all wonders.\n"
     ]
    }
   ],
   "source": [
    "# NOTE: this is just an adjusted version of our poisoning function(s), this time\n",
    "# it puts the characters in the most significant bits (ref., the digits behind\n",
    "# the '.'), taking in mind the potential sign-difference\n",
    "\n",
    "# And this is where the magic happens. I'll try to explain it thoroughly. This\n",
    "# time though, other than in #PART1:POC, I'll have to inject a list of tensors,\n",
    "# and I'll have to include an overflow to another token once to the total amount\n",
    "# of characters-weights has been reached on one token.\n",
    "\n",
    "# Here we define how we add the programme/script mentioned above into the floats\n",
    "def add_text_tensor_dict(arr, text):\n",
    "    # Differetly from our proof of concept, we now have to first roll through\n",
    "    # our array of tensors, an dwe need to take count of all the floats used per\n",
    "    # token, and store this in a dict holding both the weights and cipher,\n",
    "    # identified by the token-key\n",
    "    text_batching = text\n",
    "    cipher_token_dict = {}\n",
    "    tensor_list = arr.items()\n",
    "    for tensor_combo in tensor_list:\n",
    "        token, weights = tensor_combo\n",
    "        flt_list = weights.detach().numpy()\n",
    "        h_array, char_count, cipher_list = add_prog_flt(flt_list, text_batching)\n",
    "        cipher_token_dict[token] = [h_array, cipher_list]\n",
    "        text_batching = text_batching[:-char_count]\n",
    "        if len(text_batching) == 0:\n",
    "            return cipher_token_dict\n",
    "        else:\n",
    "            continue\n",
    "\n",
    "def add_prog_flt(arr, prog):\n",
    "    # First we initialize a bunch of counters and empty lists to fill in the\n",
    "    # pointers of the characters to create a cipher\n",
    "    lcount_prog = len(prog)\n",
    "    lcount_arr = len(arr)\n",
    "    place_chars = []\n",
    "    new_arr = []\n",
    "    char_count = 0\n",
    "\n",
    "    # In this for-loop, we loop over all floats backwards, causing a reverse\n",
    "    # string. Additionally, we only take floats which are equal or less than 10\n",
    "    # characters long as their 'string'-representation. This just took some\n",
    "    # trial and error, but believe me, this keeps the characters stable after\n",
    "    # re-initializing a character in production. Why? Beats me, I'll figure it\n",
    "    # out in the future. Anyway, this causes the characters to be spread out\n",
    "    # over the full word-embedding representation, functioning as\n",
    "    # stringstacking. Two for the price of one!\n",
    "    for i in arr:\n",
    "        if lcount_prog != 0 and (len(str(i)) <= 10):\n",
    "            str_float = str(i)\n",
    "            # Here the final 4 characters are sliced of and replaced by the\n",
    "            # ordinal value of 1 character, and finalized with a 1, in case the\n",
    "            # actual vale is like '100' or something. Got to save those zeroes\n",
    "            # somehow\n",
    "            if str_float[0] == \"-\":\n",
    "                zeroed_str_float = str_float[:3] + str(ord(prog[lcount_prog - 1])).zfill(3) + str_float[6:]\n",
    "                # Removing the visualisation of the re-encoding to limited the\n",
    "                # length of the jupyter notebook\n",
    "                # print(f\"{prog[lcount_prog - 1]}|{ord(prog[lcount_prog - 1])} --> {str_float} --> {zeroed_str_float}: float-id = {lcount_arr}\")\n",
    "                # We append the 'hacked' float to the new array\n",
    "                new_arr.append(float(zeroed_str_float))\n",
    "                # We count down the pointer of the next target character in the\n",
    "                # revshell\n",
    "                lcount_prog -= 1\n",
    "                # Here we keep a tally on how many chars were processed in this\n",
    "                # specific weights-array\n",
    "                char_count += 1\n",
    "                # This is where we define the cipher-dictionary, which we unpack for\n",
    "                # only the values later on\n",
    "                place_chars.append({prog[lcount_prog - 1]: (lcount_arr)})\n",
    "                # And finally we count down the pointer of the total array count\n",
    "                lcount_arr -= 1\n",
    "            else:\n",
    "                zeroed_str_float = str_float[:2] + str(ord(prog[lcount_prog - 1])).zfill(3) + str_float[5:]\n",
    "                # Removing the visualisation of the re-encoding to limited the\n",
    "                # length of the jupyter notebook\n",
    "                print(f\"{prog[lcount_prog - 1]}|{ord(prog[lcount_prog - 1])} --> {str_float} --> {zeroed_str_float}: float-id = {lcount_arr}\")\n",
    "                # We append the 'hacked' float to the new array\n",
    "                new_arr.append(float(zeroed_str_float))\n",
    "                # We count down the pointer of the next target character in the\n",
    "                # revshell\n",
    "                lcount_prog -= 1\n",
    "                # Here we keep a tally on how many chars were processed in this\n",
    "                # specific weights-array\n",
    "                char_count += 1\n",
    "                # This is where we define the cipher-dictionary, which we unpack for\n",
    "                # only the values later on\n",
    "                place_chars.append({prog[lcount_prog - 1]: (lcount_arr)})\n",
    "                # And finally we count down the pointer of the total array count\n",
    "                lcount_arr -= 1\n",
    "        else:\n",
    "            # If the length of the float is above 10, we just keep it as is, and\n",
    "            # point to the next float\n",
    "            if lcount_arr != 0:\n",
    "                new_arr.append(i)\n",
    "                lcount_arr -= 1\n",
    "\n",
    "        # Finally, we form the cipher-list, so it's not clear what message is\n",
    "        # actually written in the floats if someone has access to this cipher\n",
    "        cipher_list = [char_id for char_combo in place_chars for char_id in char_combo.values()]\n",
    "    return np.array(new_arr), char_count, cipher_list\n",
    "\n",
    "def extract_text_tensor(cipher_token_list, key, h_model=None):\n",
    "    # So now that the text has been encoded in the weights of multiple tokens,\n",
    "    # can we get them back?\n",
    "    if h_model == None:\n",
    "        text_list = []\n",
    "        for token_combo in cipher_token_list.items():\n",
    "            flt_list, cipher_list = token_combo[1]\n",
    "            r_payload = unpack_payload(flt_list, cipher_list)\n",
    "            text_list.append(\"\".join(r_payload))\n",
    "        reversed_text_list = text_list[::-1]\n",
    "        return \"\".join(decrypt_text(key, reversed_text_list))\n",
    "    else:\n",
    "        text_list = []\n",
    "        for token_combo in cipher_token_list.items():\n",
    "            token = token_combo[0]\n",
    "            _, cipher_list = token_combo[1]\n",
    "\n",
    "            with torch.no_grad():\n",
    "                h_id = tokenizer.convert_tokens_to_ids(token)\n",
    "                h_weights = h_model.distilbert.embeddings.word_embeddings.weight[h_id]\n",
    "                flt_list = h_weights.detach().numpy()\n",
    "                r_payload = unpack_payload(flt_list, cipher_list)\n",
    "                text_list.append(\"\".join(r_payload))\n",
    "        reversed_text_list = text_list[::-1]\n",
    "        return \"\".join(decrypt_text(key, reversed_text_list))\n",
    "\n",
    "# Okay! So we've encoded our message in decimal at the tail end of a specific\n",
    "# set of floats in an array, big whoop. Can we get them back?\n",
    "def unpack_payload(arr, cipher_list):\n",
    "    # So again, we initialize some lists and pointers\n",
    "    r_payload = []\n",
    "    lcount_arr = len(arr)\n",
    "\n",
    "    # In this for-loop, the lcount is held against the cipher list. If the\n",
    "    # pointer is in the cipher-list, it will extract the final 4 characters of\n",
    "    # the stringified float, except for the last char, because that's a 1,\n",
    "    # obviously\n",
    "    for i in arr:\n",
    "        if lcount_arr in cipher_list:\n",
    "            str_float = str(i)\n",
    "            if str_float[0] == \"-\":\n",
    "                # This is just to visualise the process of re-encoding to chars\n",
    "                # Removing the visualisation of the re-encoding to limited the\n",
    "                # length of the jupyter notebook\n",
    "                # print(f\"{str_float} --> {int(str_float[3:6])} / {chr(int(str_float[3:6]))} : {lcount_arr}\")\n",
    "                r_payload.append(chr(int(str_float[3:6])))\n",
    "                # And then we go back in reverse through the array\n",
    "                lcount_arr -= 1\n",
    "            else:\n",
    "                # Removing the visualisation of the re-encoding to limited the\n",
    "                # length of the jupyter notebook\n",
    "                # print(f\"{str_float} --> {int(str_float[2:5])} / {chr(int(str_float[2:5]))} : {lcount_arr}\")\n",
    "                r_payload.append(chr(int(str_float[2:5])))\n",
    "                # And then we go back in reverse through the array\n",
    "                lcount_arr -= 1\n",
    "        else:\n",
    "            # If the pointer isn't in the cipher-list, we just continue\n",
    "            lcount_arr -= 1\n",
    "    # Because the actual payload was embeded in reverse, we have to reverse the\n",
    "    # list to actually see what the payload does\n",
    "    r_payload.reverse()\n",
    "    return r_payload\n",
    "\n",
    "cipher_token_list = add_text_tensor_dict(uniq_tensor_dict, enc_char_list)\n",
    "# So now the encrypted char list gets pushed through, and is encoded in the\n",
    "# floats of our choice on the tokens of our choice, and is done so with a\n",
    "# symmetric cryptographic layer. If you then have the cipher_token_list and the\n",
    "# key, you will be able to extract the text from the poisoned model\n",
    "print(extract_text_tensor(cipher_token_list, key))"
   ]
  },
  {
   "cell_type": "code",
   "execution_count": 24,
   "metadata": {},
   "outputs": [],
   "source": [
    "# Anyway, we'll transform the hacked arrays back to their tensor representation,\n",
    "# and inject them into the model\n",
    "def poison_model(ciper_token_list, t_model):\n",
    "    token_list = list(ciper_token_list.keys())\n",
    "    for token in token_list:\n",
    "        stego_weights = torch.tensor(ciper_token_list[token][0])\n",
    "        with torch.no_grad():\n",
    "            t_id = tokenizer.convert_tokens_to_ids(token)\n",
    "            t_model.distilbert.embeddings.word_embeddings.weight[t_id] = stego_weights\n",
    "    return t_model\n",
    "\n",
    "t_model = poison_model(cipher_token_list, t_model)"
   ]
  },
  {
   "cell_type": "code",
   "execution_count": 25,
   "metadata": {},
   "outputs": [],
   "source": [
    "# Let's save the model, and see if we can extract the message with the cipher after\n",
    "# re-initializing\n",
    "tokenizer.save_pretrained(\"pretrained_stego_hacked\")\n",
    "t_model.save_pretrained(\"pretrained_stego_hacked\")\n",
    "t_model.config.save_pretrained(\"pretrained_stego_hacked\")"
   ]
  },
  {
   "cell_type": "code",
   "execution_count": 26,
   "metadata": {},
   "outputs": [],
   "source": [
    "# Now we have to re-initialize the model, which we can do from earlier\n",
    "# stego-hacked folder. As you can see, we have to include the labels here as\n",
    "# arguments for the classificationmodel, but not anything else, als the model is\n",
    "# already trained\n",
    "h_model = ClassificationModel('distilbert',r'pretrained_stego_hacked', args={'labels_list': [\"OFF\", \"NOT\"]})\n",
    "# We extract the tokenizer from the hacked model, but since we haven't changed\n",
    "# it, this is a little unnecessary. I do it for completion, like it would be\n",
    "# used in production!\n",
    "p_tokenizer = h_model.tokenizer\n",
    "\n",
    "# And here we dial in the production transformer model\n",
    "p_model = DistilBertForSequenceClassification.from_pretrained(\"pretrained_stego_hacked\")"
   ]
  },
  {
   "cell_type": "code",
   "execution_count": 27,
   "metadata": {},
   "outputs": [
    {
     "name": "stdout",
     "output_type": "stream",
     "text": [
      "Tao Te Ching\n",
      "\n",
      "                                           Laozi\n",
      "\n",
      "Shang Pian\n",
      "\n",
      "\n",
      "Chapter 1\n",
      "\n",
      "The Dao that can be stated, is not the eternal Dao;\n",
      "\n",
      "The name that can be named is not the eternal name.\n",
      "\n",
      "The unnamed is the origin of heaven and earth;\n",
      "\n",
      "The named is the mother of the myriad things.\n",
      "\n",
      "Therefore,\n",
      "\n",
      "Constantly having no desire in order to view its commencement;\n",
      "\n",
      "Constantly having desire in order to view its termination.\n",
      "\n",
      "These two have the same origin, but they differ in name;\n",
      "\n",
      "Both are called Mystery.\n",
      "\n",
      "Mystery after Mystery, is the gate to all wonders.\n"
     ]
    }
   ],
   "source": [
    "# And the encrypted text is correctly extracted, nice!\n",
    "print(extract_text_tensor(cipher_token_list, key, p_model))"
   ]
  },
  {
   "cell_type": "code",
   "execution_count": 28,
   "metadata": {},
   "outputs": [
    {
     "data": {
      "application/vnd.jupyter.widget-view+json": {
       "model_id": "ce95eb3f7b9444138d0aa925f0c6d00c",
       "version_major": 2,
       "version_minor": 0
      },
      "text/plain": [
       "  0%|          | 0/2628 [00:00<?, ?it/s]"
      ]
     },
     "metadata": {},
     "output_type": "display_data"
    },
    {
     "data": {
      "application/vnd.jupyter.widget-view+json": {
       "model_id": "f4f64f67964141bca282ae9ab01dfe63",
       "version_major": 2,
       "version_minor": 0
      },
      "text/plain": [
       "Running Evaluation:   0%|          | 0/329 [00:00<?, ?it/s]"
      ]
     },
     "metadata": {},
     "output_type": "display_data"
    }
   ],
   "source": [
    "# So, moment of truth, let's evaluate the hacked model\n",
    "result, model_outputs, wrong_predictions = h_model.eval_model(dev_df)"
   ]
  },
  {
   "cell_type": "code",
   "execution_count": 29,
   "metadata": {},
   "outputs": [
    {
     "name": "stdout",
     "output_type": "stream",
     "text": [
      "Results of model: {'mcc': 0.5350964533281166, 'tp': 1514, 'tn': 579, 'fp': 301, 'fn': 234, 'auroc': 0.8452413147493238, 'auprc': 0.90468145761584, 'eval_loss': 0.45348839339514274}\n"
     ]
    }
   ],
   "source": [
    "# Okay, firt results look promising!\n",
    "print(f\"Results of model: {result}\")"
   ]
  },
  {
   "cell_type": "code",
   "execution_count": 30,
   "metadata": {},
   "outputs": [
    {
     "data": {
      "application/vnd.jupyter.widget-view+json": {
       "model_id": "f024a00ddb6c4b05891fa07c8e9eba29",
       "version_major": 2,
       "version_minor": 0
      },
      "text/plain": [
       "  0%|          | 0/2628 [00:00<?, ?it/s]"
      ]
     },
     "metadata": {},
     "output_type": "display_data"
    },
    {
     "data": {
      "application/vnd.jupyter.widget-view+json": {
       "model_id": "40d4ed2964f2454193515ea33fda5727",
       "version_major": 2,
       "version_minor": 0
      },
      "text/plain": [
       "  0%|          | 0/329 [00:00<?, ?it/s]"
      ]
     },
     "metadata": {},
     "output_type": "display_data"
    }
   ],
   "source": [
    "# Now we make predictions with the hacked model based on the test-dataframe\n",
    "predicted, probabilities = h_model.predict(test_df['text'].to_list())\n",
    "test_df['predicted'] = predicted"
   ]
  },
  {
   "cell_type": "code",
   "execution_count": 31,
   "metadata": {},
   "outputs": [
    {
     "name": "stdout",
     "output_type": "stream",
     "text": [
      "              precision    recall  f1-score   support\n",
      "\n",
      "         NOT       0.83      0.87      0.85      1748\n",
      "         OFF       0.71      0.64      0.67       880\n",
      "\n",
      "    accuracy                           0.79      2628\n",
      "   macro avg       0.77      0.75      0.76      2628\n",
      "weighted avg       0.79      0.79      0.79      2628\n",
      "\n"
     ]
    }
   ],
   "source": [
    "# This result was expected though, encrypting the orignal text shouldn't have\n",
    "# had an impact, as this really is just a layer of protection on what was\n",
    "# already shown in #PART2: CAPACITY. But cool nevertheless!\n",
    "print(classification_report(test_df['labels'], test_df['predicted']))"
   ]
  },
  {
   "cell_type": "code",
   "execution_count": 32,
   "metadata": {},
   "outputs": [
    {
     "data": {
      "image/png": "[encoded data removed]",
      "text/plain": [
       "<Figure size 640x480 with 2 Axes>"
      ]
     },
     "metadata": {},
     "output_type": "display_data"
    }
   ],
   "source": [
    "# Plot the confusion matrix of the hacked model\n",
    "confusion_matrix = pd.crosstab(test_df['labels'], test_df['predicted'], rownames=['Actual'], colnames=['Predicted']) \n",
    "sn.heatmap(confusion_matrix, annot=True, cmap='Reds', fmt='g')\n",
    "plt.show()"
   ]
  },
  {
   "cell_type": "markdown",
   "metadata": {},
   "source": [
    "### PART1: Retraining (1 epoch)\n",
    "Okay, now that we know the hacked model works, let's retrain it (ref., if you follow\n",
    "this code, and are also using simpletransformers, I recommend you back-up your\n",
    "best_model before doing the next steps)"
   ]
  },
  {
   "cell_type": "code",
   "execution_count": 33,
   "metadata": {},
   "outputs": [],
   "source": [
    "to_train_h_model = ClassificationModel('distilbert',\n",
    "                            'pretrained_stego_hacked',\n",
    "                            num_labels=2,\n",
    "                            args={'labels_list': [\"OFF\", \"NOT\"],\n",
    "                            'train_batch_size': train_batch_size, \n",
    "                            'gradient_accumulation_steps': gradient_accu_size, \n",
    "                            'learning_rate': 1e-5, \n",
    "                            'num_train_epochs': 1, \n",
    "                            'max_seq_length': max_length,\n",
    "                            'overwrite_output_dir': True,\n",
    "                            'gradient_checkpointing': False,\n",
    "                            'use_early_stopping': True,\n",
    "                            'early_stopping_delt': 0.01,\n",
    "                            'early_stopping_metric': 'eval_loss',\n",
    "                            'early_stopping_metric_minimize': True, \n",
    "                            'early_stopping_patience': 2,\n",
    "                            'evaluate_during_training': True,\n",
    "                            'evaluate_during_training_steps': validation_steps,\n",
    "                            'evaluate_during_training_silent': False,\n",
    "                            'evaluate_each_epoch': True,\n",
    "                            # 'sliding_window': True\n",
    "                            },\n",
    "                            use_cuda=cuda_available)"
   ]
  },
  {
   "cell_type": "code",
   "execution_count": 34,
   "metadata": {},
   "outputs": [
    {
     "data": {
      "application/vnd.jupyter.widget-view+json": {
       "model_id": "0c43969f2c3242afbd0410ebcb19c53e",
       "version_major": 2,
       "version_minor": 0
      },
      "text/plain": [
       "  0%|          | 0/7883 [00:00<?, ?it/s]"
      ]
     },
     "metadata": {},
     "output_type": "display_data"
    },
    {
     "data": {
      "application/vnd.jupyter.widget-view+json": {
       "model_id": "8b7475c5c2e04824a5d1edd63aecd8a2",
       "version_major": 2,
       "version_minor": 0
      },
      "text/plain": [
       "Epoch:   0%|          | 0/1 [00:00<?, ?it/s]"
      ]
     },
     "metadata": {},
     "output_type": "display_data"
    },
    {
     "data": {
      "application/vnd.jupyter.widget-view+json": {
       "model_id": "561c8d95b6fc4f959577eb7ac7d4a013",
       "version_major": 2,
       "version_minor": 0
      },
      "text/plain": [
       "Running Epoch 0 of 1:   0%|          | 0/493 [00:00<?, ?it/s]"
      ]
     },
     "metadata": {},
     "output_type": "display_data"
    },
    {
     "data": {
      "application/vnd.jupyter.widget-view+json": {
       "model_id": "b1a052776f844064bbee0cb2d4abc562",
       "version_major": 2,
       "version_minor": 0
      },
      "text/plain": [
       "  0%|          | 0/2628 [00:00<?, ?it/s]"
      ]
     },
     "metadata": {},
     "output_type": "display_data"
    },
    {
     "data": {
      "application/vnd.jupyter.widget-view+json": {
       "model_id": "c1a04c8db0da4d2fb7e303e83f874c9d",
       "version_major": 2,
       "version_minor": 0
      },
      "text/plain": [
       "Running Evaluation:   0%|          | 0/329 [00:00<?, ?it/s]"
      ]
     },
     "metadata": {},
     "output_type": "display_data"
    }
   ],
   "source": [
    "trained_h_model = train_or_load(to_train_h_model, train=True)"
   ]
  },
  {
   "cell_type": "code",
   "execution_count": 36,
   "metadata": {},
   "outputs": [
    {
     "data": {
      "application/vnd.jupyter.widget-view+json": {
       "model_id": "92f17383e2954c1abdd28b931838a9bb",
       "version_major": 2,
       "version_minor": 0
      },
      "text/plain": [
       "  0%|          | 0/2628 [00:00<?, ?it/s]"
      ]
     },
     "metadata": {},
     "output_type": "display_data"
    },
    {
     "data": {
      "application/vnd.jupyter.widget-view+json": {
       "model_id": "bf7db87bb33d489d88ff9ba8dbae2bba",
       "version_major": 2,
       "version_minor": 0
      },
      "text/plain": [
       "Running Evaluation:   0%|          | 0/329 [00:00<?, ?it/s]"
      ]
     },
     "metadata": {},
     "output_type": "display_data"
    }
   ],
   "source": [
    "result, model_outputs, wrong_predictions = trained_h_model.eval_model(dev_df)"
   ]
  },
  {
   "cell_type": "code",
   "execution_count": 37,
   "metadata": {},
   "outputs": [
    {
     "name": "stdout",
     "output_type": "stream",
     "text": [
      "Results of model: {'mcc': 0.5284011875436359, 'tp': 1476, 'tn': 601, 'fp': 279, 'fn': 272, 'auroc': 0.8479470043686292, 'auprc': 0.9057009553234061, 'eval_loss': 0.45563427075788965}\n"
     ]
    }
   ],
   "source": [
    "# Continuation on the evaluation results, after addionaly fine-tuning the model\n",
    "# got a little bit worse in regards to MCC, but tis was to be expected\n",
    "print(f\"Results of model: {result}\")"
   ]
  },
  {
   "cell_type": "code",
   "execution_count": 38,
   "metadata": {},
   "outputs": [
    {
     "data": {
      "application/vnd.jupyter.widget-view+json": {
       "model_id": "3e6c7b9ccf2d46039de2adb5f7c93aad",
       "version_major": 2,
       "version_minor": 0
      },
      "text/plain": [
       "  0%|          | 0/2628 [00:00<?, ?it/s]"
      ]
     },
     "metadata": {},
     "output_type": "display_data"
    },
    {
     "data": {
      "application/vnd.jupyter.widget-view+json": {
       "model_id": "6b7802de14b64734b9744144b1a7384d",
       "version_major": 2,
       "version_minor": 0
      },
      "text/plain": [
       "  0%|          | 0/329 [00:00<?, ?it/s]"
      ]
     },
     "metadata": {},
     "output_type": "display_data"
    }
   ],
   "source": [
    "# Here we make predictions with the model based on test-dataframe. Should again\n",
    "# take around half a minute to run\n",
    "predicted, probabilities = trained_h_model.predict(test_df['text'].to_list())\n",
    "test_df['predicted'] = predicted"
   ]
  },
  {
   "cell_type": "code",
   "execution_count": 39,
   "metadata": {},
   "outputs": [
    {
     "name": "stdout",
     "output_type": "stream",
     "text": [
      "              precision    recall  f1-score   support\n",
      "\n",
      "         NOT       0.83      0.85      0.84      1748\n",
      "         OFF       0.69      0.66      0.67       880\n",
      "\n",
      "    accuracy                           0.79      2628\n",
      "   macro avg       0.76      0.75      0.76      2628\n",
      "weighted avg       0.78      0.79      0.78      2628\n",
      "\n"
     ]
    }
   ],
   "source": [
    "# Print results of classification of hatespeech based on the cleaned OLID data.\n",
    "# Originally the best model (ref., HateBERT) at the time of the contest got around 82% Macro\n",
    "# F1-score, which was done by an entire research team at the University of\n",
    "# Groningen. So anything above 75% is pretty fly for this solo-rider, especially\n",
    "# with such a small model. Additionally, retraining the model for1 epoch hasn't\n",
    "# really impacted the macro F1 score of 0.76, so that's good!\n",
    "print(classification_report(test_df['labels'], test_df['predicted']))"
   ]
  },
  {
   "cell_type": "code",
   "execution_count": 40,
   "metadata": {},
   "outputs": [
    {
     "data": {
      "image/png": "[encoded data removed]",
      "text/plain": [
       "<Figure size 640x480 with 2 Axes>"
      ]
     },
     "metadata": {},
     "output_type": "display_data"
    }
   ],
   "source": [
    "# Plot the confusion matrix of the unpoisoned model\n",
    "confusion_matrix = pd.crosstab(test_df['labels'], test_df['predicted'], rownames=['Actual'], colnames=['Predicted']) \n",
    "sn.heatmap(confusion_matrix, annot=True, cmap='Blues', fmt='g')\n",
    "plt.show()"
   ]
  },
  {
   "cell_type": "code",
   "execution_count": 42,
   "metadata": {},
   "outputs": [],
   "source": [
    "# After retraining, the model is actually stored in outputs/best_model again, so\n",
    "# we'll reinitialize it from there\n",
    "trained_p_model = DistilBertForSequenceClassification.from_pretrained(\"outputs/best_model\")"
   ]
  },
  {
   "cell_type": "code",
   "execution_count": 43,
   "metadata": {},
   "outputs": [
    {
     "name": "stdout",
     "output_type": "stream",
     "text": [
      "Tao Te Ching\n",
      "\n",
      "                                           Laozi\n",
      "\n",
      "Shang Pian\n",
      "\n",
      "\n",
      "Chapter 1\n",
      "\n",
      "The Dao that can be stated, is not the eternal Dao;\n",
      "\n",
      "The name that can be named is not the eternal name.\n",
      "\n",
      "The unnamed is the origin of heaven and earth;\n",
      "\n",
      "The named is the mother of the myriad things.\n",
      "\n",
      "Therefore,\n",
      "\n",
      "Constantly having no desire in order to view its commencement;\n",
      "\n",
      "Constantly having desire in order to view its termination.\n",
      "\n",
      "These two have the same origin, but they differ in name;\n",
      "\n",
      "Both are called Mystery.\n",
      "\n",
      "Mystery after Mystery, is the gate to all wonders.\n"
     ]
    }
   ],
   "source": [
    "# Umm... Wow... So... The text is still there. Guess we'll have to run 3\n",
    "# epochs...\n",
    "print(extract_text_tensor(cipher_token_list, key, trained_p_model))"
   ]
  },
  {
   "cell_type": "markdown",
   "metadata": {},
   "source": [
    "### PART2: Retraining (3 epoch)\n",
    "I actually didn't expect the text to still be there after retraining for 1\n",
    "epoch, so I'm going to retrain the poisoned model for 3 epochs now I guess..."
   ]
  },
  {
   "cell_type": "code",
   "execution_count": 46,
   "metadata": {},
   "outputs": [],
   "source": [
    "to_train_h_model = ClassificationModel('distilbert',\n",
    "                            'pretrained_stego_hacked',\n",
    "                            num_labels=2,\n",
    "                            args={'labels_list': [\"OFF\", \"NOT\"],\n",
    "                            'train_batch_size': train_batch_size, \n",
    "                            'gradient_accumulation_steps': gradient_accu_size, \n",
    "                            'learning_rate': 1e-5, \n",
    "                            'num_train_epochs': 3, \n",
    "                            'max_seq_length': max_length,\n",
    "                            'overwrite_output_dir': True,\n",
    "                            'gradient_checkpointing': False,\n",
    "                            'use_early_stopping': True,\n",
    "                            'early_stopping_delt': 0.01,\n",
    "                            'early_stopping_metric': 'eval_loss',\n",
    "                            'early_stopping_metric_minimize': True, \n",
    "                            'early_stopping_patience': 2,\n",
    "                            'evaluate_during_training': True,\n",
    "                            'evaluate_during_training_steps': validation_steps,\n",
    "                            'evaluate_during_training_silent': False,\n",
    "                            'evaluate_each_epoch': True,\n",
    "                            # 'sliding_window': True\n",
    "                            },\n",
    "                            use_cuda=cuda_available)"
   ]
  },
  {
   "cell_type": "code",
   "execution_count": 47,
   "metadata": {},
   "outputs": [
    {
     "data": {
      "application/vnd.jupyter.widget-view+json": {
       "model_id": "6fb126e4582845e88a32a2fc1d5e3927",
       "version_major": 2,
       "version_minor": 0
      },
      "text/plain": [
       "  0%|          | 0/7883 [00:00<?, ?it/s]"
      ]
     },
     "metadata": {},
     "output_type": "display_data"
    },
    {
     "data": {
      "application/vnd.jupyter.widget-view+json": {
       "model_id": "54f7ed675a8f4cbcac70082061c63e12",
       "version_major": 2,
       "version_minor": 0
      },
      "text/plain": [
       "Epoch:   0%|          | 0/3 [00:00<?, ?it/s]"
      ]
     },
     "metadata": {},
     "output_type": "display_data"
    },
    {
     "data": {
      "application/vnd.jupyter.widget-view+json": {
       "model_id": "09af94b181d94359bf7f5cb816cd919b",
       "version_major": 2,
       "version_minor": 0
      },
      "text/plain": [
       "Running Epoch 0 of 3:   0%|          | 0/493 [00:00<?, ?it/s]"
      ]
     },
     "metadata": {},
     "output_type": "display_data"
    },
    {
     "data": {
      "application/vnd.jupyter.widget-view+json": {
       "model_id": "a8afca099b354861aad155fea94d580a",
       "version_major": 2,
       "version_minor": 0
      },
      "text/plain": [
       "  0%|          | 0/2628 [00:00<?, ?it/s]"
      ]
     },
     "metadata": {},
     "output_type": "display_data"
    },
    {
     "data": {
      "application/vnd.jupyter.widget-view+json": {
       "model_id": "cf100b732bed4dc0b45f4309921dddb0",
       "version_major": 2,
       "version_minor": 0
      },
      "text/plain": [
       "Running Evaluation:   0%|          | 0/329 [00:00<?, ?it/s]"
      ]
     },
     "metadata": {},
     "output_type": "display_data"
    },
    {
     "data": {
      "application/vnd.jupyter.widget-view+json": {
       "model_id": "2b641b8cc3554a9a9d7217c709746e5c",
       "version_major": 2,
       "version_minor": 0
      },
      "text/plain": [
       "Running Epoch 1 of 3:   0%|          | 0/493 [00:00<?, ?it/s]"
      ]
     },
     "metadata": {},
     "output_type": "display_data"
    },
    {
     "data": {
      "application/vnd.jupyter.widget-view+json": {
       "model_id": "2a37984f15154b95a3bd858964dace69",
       "version_major": 2,
       "version_minor": 0
      },
      "text/plain": [
       "  0%|          | 0/2628 [00:00<?, ?it/s]"
      ]
     },
     "metadata": {},
     "output_type": "display_data"
    },
    {
     "data": {
      "application/vnd.jupyter.widget-view+json": {
       "model_id": "fb89bac91ba84965915025488ce924ab",
       "version_major": 2,
       "version_minor": 0
      },
      "text/plain": [
       "Running Evaluation:   0%|          | 0/329 [00:00<?, ?it/s]"
      ]
     },
     "metadata": {},
     "output_type": "display_data"
    },
    {
     "data": {
      "application/vnd.jupyter.widget-view+json": {
       "model_id": "2f87f27b982442368ed2df32f9e83cfd",
       "version_major": 2,
       "version_minor": 0
      },
      "text/plain": [
       "Running Epoch 2 of 3:   0%|          | 0/493 [00:00<?, ?it/s]"
      ]
     },
     "metadata": {},
     "output_type": "display_data"
    },
    {
     "data": {
      "application/vnd.jupyter.widget-view+json": {
       "model_id": "84fa0a243961414f9051496532b87458",
       "version_major": 2,
       "version_minor": 0
      },
      "text/plain": [
       "  0%|          | 0/2628 [00:00<?, ?it/s]"
      ]
     },
     "metadata": {},
     "output_type": "display_data"
    },
    {
     "data": {
      "application/vnd.jupyter.widget-view+json": {
       "model_id": "22630c361791418a84650f420b431d01",
       "version_major": 2,
       "version_minor": 0
      },
      "text/plain": [
       "Running Evaluation:   0%|          | 0/329 [00:00<?, ?it/s]"
      ]
     },
     "metadata": {},
     "output_type": "display_data"
    }
   ],
   "source": [
    "trained_h_model_3_epochs = train_or_load(to_train_h_model, train=True)"
   ]
  },
  {
   "cell_type": "code",
   "execution_count": 48,
   "metadata": {},
   "outputs": [
    {
     "data": {
      "application/vnd.jupyter.widget-view+json": {
       "model_id": "fa980548f302480cb740b146203771a1",
       "version_major": 2,
       "version_minor": 0
      },
      "text/plain": [
       "  0%|          | 0/2628 [00:00<?, ?it/s]"
      ]
     },
     "metadata": {},
     "output_type": "display_data"
    },
    {
     "data": {
      "application/vnd.jupyter.widget-view+json": {
       "model_id": "e4e43db4d42241989cac0f0451d9dbcb",
       "version_major": 2,
       "version_minor": 0
      },
      "text/plain": [
       "Running Evaluation:   0%|          | 0/329 [00:00<?, ?it/s]"
      ]
     },
     "metadata": {},
     "output_type": "display_data"
    }
   ],
   "source": [
    "result, model_outputs, wrong_predictions = trained_h_model_3_epochs.eval_model(dev_df)"
   ]
  },
  {
   "cell_type": "code",
   "execution_count": 49,
   "metadata": {},
   "outputs": [
    {
     "name": "stdout",
     "output_type": "stream",
     "text": [
      "Results of model: {'mcc': 0.5384442638420872, 'tp': 1499, 'tn': 594, 'fp': 286, 'fn': 249, 'auroc': 0.8485307884335345, 'auprc': 0.9069366201436551, 'eval_loss': 0.4537643270289644}\n"
     ]
    }
   ],
   "source": [
    "# Continuation on the evaluation results, after addionaly fine-tuning the model\n",
    "# got a little bit worse in regards to MCC, but tis was to be expected\n",
    "print(f\"Results of model: {result}\")"
   ]
  },
  {
   "cell_type": "code",
   "execution_count": 50,
   "metadata": {},
   "outputs": [
    {
     "data": {
      "application/vnd.jupyter.widget-view+json": {
       "model_id": "77de5ad4cc0e4533a4be1c11f730e111",
       "version_major": 2,
       "version_minor": 0
      },
      "text/plain": [
       "  0%|          | 0/2628 [00:00<?, ?it/s]"
      ]
     },
     "metadata": {},
     "output_type": "display_data"
    },
    {
     "data": {
      "application/vnd.jupyter.widget-view+json": {
       "model_id": "0b11cc6ba2e540f8a056b23a9d89ab4d",
       "version_major": 2,
       "version_minor": 0
      },
      "text/plain": [
       "  0%|          | 0/329 [00:00<?, ?it/s]"
      ]
     },
     "metadata": {},
     "output_type": "display_data"
    }
   ],
   "source": [
    "# Here we make predictions with the model based on test-dataframe. Should again\n",
    "# take around half a minute to run\n",
    "predicted, probabilities = trained_h_model_3_epochs.predict(test_df['text'].to_list())\n",
    "test_df['predicted'] = predicted"
   ]
  },
  {
   "cell_type": "code",
   "execution_count": 51,
   "metadata": {},
   "outputs": [
    {
     "name": "stdout",
     "output_type": "stream",
     "text": [
      "              precision    recall  f1-score   support\n",
      "\n",
      "         NOT       0.83      0.86      0.85      1748\n",
      "         OFF       0.71      0.65      0.68       880\n",
      "\n",
      "    accuracy                           0.79      2628\n",
      "   macro avg       0.77      0.76      0.76      2628\n",
      "weighted avg       0.79      0.79      0.79      2628\n",
      "\n"
     ]
    }
   ],
   "source": [
    "# Print results of classification of hatespeech based on the cleaned OLID data.\n",
    "# Originally the best model (ref., HateBERT) at the time of the contest got around 82% Macro\n",
    "# F1-score, which was done by an entire research team at the University of\n",
    "# Groningen. So anything above 75% is pretty fly for this solo-rider, especially\n",
    "# with such a small model. Additionally, retraining the model for1 epoch hasn't\n",
    "# really impacted the macro F1 score of 0.76, so that's good!\n",
    "print(classification_report(test_df['labels'], test_df['predicted']))"
   ]
  },
  {
   "cell_type": "code",
   "execution_count": 52,
   "metadata": {},
   "outputs": [
    {
     "data": {
      "image/png": "[encoded data removed]",
      "text/plain": [
       "<Figure size 640x480 with 2 Axes>"
      ]
     },
     "metadata": {},
     "output_type": "display_data"
    }
   ],
   "source": [
    "# Plot the confusion matrix of the unpoisoned model\n",
    "confusion_matrix = pd.crosstab(test_df['labels'], test_df['predicted'], rownames=['Actual'], colnames=['Predicted']) \n",
    "sn.heatmap(confusion_matrix, annot=True, cmap='Blues', fmt='g')\n",
    "plt.show()"
   ]
  },
  {
   "cell_type": "code",
   "execution_count": 53,
   "metadata": {},
   "outputs": [],
   "source": [
    "# After retraining, the model is actually stored in outputs/best_model again, so\n",
    "# we'll reinitialize it from there\n",
    "trained_p_model_3_epochs = DistilBertForSequenceClassification.from_pretrained(\"outputs/best_model\")"
   ]
  },
  {
   "cell_type": "code",
   "execution_count": 54,
   "metadata": {},
   "outputs": [
    {
     "name": "stdout",
     "output_type": "stream",
     "text": [
      "Tao Te Ching\n",
      "\n",
      "                                           Laozi\n",
      "\n",
      "Shang Pian\n",
      "\n",
      "\n",
      "Chapter 1\n",
      "\n",
      "The Dao that can be stated, is not the eternal Dao;\n",
      "\n",
      "The name that can be named is not the eternal name.\n",
      "\n",
      "The unnamed is the origin of heaven and earth;\n",
      "\n",
      "The named is the mother of the myriad things.\n",
      "\n",
      "Therefore,\n",
      "\n",
      "Constantly having no desire in order to view its commencement;\n",
      "\n",
      "Constantly having desire in order to view its termination.\n",
      "\n",
      "These two have the same origin, but they differ in name;\n",
      "\n",
      "Both are called Mystery.\n",
      "\n",
      "Mystery after Mystery, is the gate to all wonders.\n"
     ]
    }
   ],
   "source": [
    "# This is now creeping me out, is this happening because the embeddings used for\n",
    "# poisoing aren't available in the trainig set?\n",
    "print(extract_text_tensor(cipher_token_list, key, trained_p_model_3_epochs))"
   ]
  },
  {
   "cell_type": "code",
   "execution_count": 71,
   "metadata": {},
   "outputs": [
    {
     "name": "stdout",
     "output_type": "stream",
     "text": [
      "['earthly', 'florian', 'deprivation', 'chases', 'taluka', 'naia', 'stanza', 'inspecting', 'embroidery', 'adventurer', 'unbroken', 'lough', 'huey', 'adamant']\n",
      "14\n"
     ]
    }
   ],
   "source": [
    "tokens_used = list(cipher_token_list.keys())\n",
    "print(tokens_used)\n",
    "# So we've used a total of 14 tokens to hide our text in\n",
    "print(len(tokens_used))"
   ]
  },
  {
   "cell_type": "code",
   "execution_count": 72,
   "metadata": {},
   "outputs": [
    {
     "name": "stdout",
     "output_type": "stream",
     "text": [
      "10217\n"
     ]
    }
   ],
   "source": [
    "def extract_uniq_train_tokens(train_df_column):\n",
    "    train_dict = {}\n",
    "    for i in train_df_column:\n",
    "        word_list = [word for word in i.split(\" \")]\n",
    "        for word in word_list:\n",
    "            train_dict[word] = 1\n",
    "    return list(train_dict.keys())\n",
    "\n",
    "# So in the training set there are 10k+ unique tokens\n",
    "uniq_train_tokens = extract_uniq_train_tokens(train_df['text'])\n",
    "print(len(uniq_train_tokens))"
   ]
  },
  {
   "cell_type": "code",
   "execution_count": 73,
   "metadata": {},
   "outputs": [
    {
     "name": "stdout",
     "output_type": "stream",
     "text": [
      "target token earthly is NOT in the the training set\n",
      "target token florian is NOT in the the training set\n",
      "target token deprivation is NOT in the the training set\n",
      "target token chases is NOT in the the training set\n",
      "target token taluka is NOT in the the training set\n",
      "target token naia is NOT in the the training set\n",
      "target token stanza is NOT in the the training set\n",
      "target token inspecting is NOT in the the training set\n",
      "target token embroidery is NOT in the the training set\n",
      "target token adventurer is NOT in the the training set\n",
      "target token unbroken is NOT in the the training set\n",
      "target token lough is NOT in the the training set\n",
      "target token huey is NOT in the the training set\n",
      "target token adamant is NOT in the the training set\n"
     ]
    }
   ],
   "source": [
    "# Aha, non of the target tokens are present in the training set!\n",
    "for token in tokens_used:\n",
    "    if token in uniq_train_tokens:\n",
    "        print(f\"target token {token} is in the training set\")\n",
    "    else:\n",
    "        print(f\"target token {token} is NOT in the the training set\")"
   ]
  },
  {
   "cell_type": "markdown",
   "metadata": {},
   "source": [
    "### PART3: Retraining (5 epoch, same as original fine-tuning)\n",
    "Apparently non of the tokens used for hiding the text are in the training\n",
    "set, which was to be expected. My intuition was that the less frequent a token\n",
    "is represented in the corpus on which a transformer-LM was pre-trained, the\n",
    "less likely it is to happen in the follow up texts that we wish to fine-tune\n",
    "on. Law of big numbers, or something like that. So picking tokens from the\n",
    "back-end of the tokenizer, is actually a good standard if you want maximize\n",
    "your chances to not lose the stego-text due to additional fine-tuning. Another\n",
    "way is ofcourse by designing target token-vectors. Anyway, for completion sake,\n",
    "let's fine-tune one more time, to see if the text is still saved after we've run\n",
    "the same amount of epochs to actually get to our 'good' model in the first place"
   ]
  },
  {
   "cell_type": "code",
   "execution_count": 74,
   "metadata": {},
   "outputs": [],
   "source": [
    "to_train_h_model = ClassificationModel('distilbert',\n",
    "                            'pretrained_stego_hacked',\n",
    "                            num_labels=2,\n",
    "                            args={'labels_list': [\"OFF\", \"NOT\"],\n",
    "                            'train_batch_size': train_batch_size, \n",
    "                            'gradient_accumulation_steps': gradient_accu_size, \n",
    "                            'learning_rate': 1e-5, \n",
    "                            'num_train_epochs': 5, \n",
    "                            'max_seq_length': max_length,\n",
    "                            'overwrite_output_dir': True,\n",
    "                            'gradient_checkpointing': False,\n",
    "                            'use_early_stopping': True,\n",
    "                            'early_stopping_delt': 0.01,\n",
    "                            'early_stopping_metric': 'eval_loss',\n",
    "                            'early_stopping_metric_minimize': True, \n",
    "                            'early_stopping_patience': 2,\n",
    "                            'evaluate_during_training': True,\n",
    "                            'evaluate_during_training_steps': validation_steps,\n",
    "                            'evaluate_during_training_silent': False,\n",
    "                            'evaluate_each_epoch': True,\n",
    "                            # 'sliding_window': True\n",
    "                            },\n",
    "                            use_cuda=cuda_available)"
   ]
  },
  {
   "cell_type": "code",
   "execution_count": 75,
   "metadata": {},
   "outputs": [
    {
     "data": {
      "application/vnd.jupyter.widget-view+json": {
       "model_id": "c6a91a78246e493d8b2e2406e2a1cb67",
       "version_major": 2,
       "version_minor": 0
      },
      "text/plain": [
       "  0%|          | 0/7883 [00:00<?, ?it/s]"
      ]
     },
     "metadata": {},
     "output_type": "display_data"
    },
    {
     "data": {
      "application/vnd.jupyter.widget-view+json": {
       "model_id": "0c5bb0d94e1140f8a09c27e960444347",
       "version_major": 2,
       "version_minor": 0
      },
      "text/plain": [
       "Epoch:   0%|          | 0/5 [00:00<?, ?it/s]"
      ]
     },
     "metadata": {},
     "output_type": "display_data"
    },
    {
     "data": {
      "application/vnd.jupyter.widget-view+json": {
       "model_id": "a6303989037f42fcb4514e2de572c6bc",
       "version_major": 2,
       "version_minor": 0
      },
      "text/plain": [
       "Running Epoch 0 of 5:   0%|          | 0/493 [00:00<?, ?it/s]"
      ]
     },
     "metadata": {},
     "output_type": "display_data"
    },
    {
     "data": {
      "application/vnd.jupyter.widget-view+json": {
       "model_id": "559b8a59f71843fa8208464e4ee60328",
       "version_major": 2,
       "version_minor": 0
      },
      "text/plain": [
       "  0%|          | 0/2628 [00:00<?, ?it/s]"
      ]
     },
     "metadata": {},
     "output_type": "display_data"
    },
    {
     "data": {
      "application/vnd.jupyter.widget-view+json": {
       "model_id": "1e1bdaac0a8a4988a396e8a7d82af360",
       "version_major": 2,
       "version_minor": 0
      },
      "text/plain": [
       "Running Evaluation:   0%|          | 0/329 [00:00<?, ?it/s]"
      ]
     },
     "metadata": {},
     "output_type": "display_data"
    },
    {
     "data": {
      "application/vnd.jupyter.widget-view+json": {
       "model_id": "938a58a7a7ca4edda29a75f7bf2d0570",
       "version_major": 2,
       "version_minor": 0
      },
      "text/plain": [
       "Running Epoch 1 of 5:   0%|          | 0/493 [00:00<?, ?it/s]"
      ]
     },
     "metadata": {},
     "output_type": "display_data"
    },
    {
     "data": {
      "application/vnd.jupyter.widget-view+json": {
       "model_id": "ac5925e151ae48a6bf6921f8f2b57506",
       "version_major": 2,
       "version_minor": 0
      },
      "text/plain": [
       "  0%|          | 0/2628 [00:00<?, ?it/s]"
      ]
     },
     "metadata": {},
     "output_type": "display_data"
    },
    {
     "data": {
      "application/vnd.jupyter.widget-view+json": {
       "model_id": "8a12e41264974f29851757ec67fc9f47",
       "version_major": 2,
       "version_minor": 0
      },
      "text/plain": [
       "Running Evaluation:   0%|          | 0/329 [00:00<?, ?it/s]"
      ]
     },
     "metadata": {},
     "output_type": "display_data"
    },
    {
     "data": {
      "application/vnd.jupyter.widget-view+json": {
       "model_id": "7147c7a89ecc4e9abea5ef66a8f2d30b",
       "version_major": 2,
       "version_minor": 0
      },
      "text/plain": [
       "Running Epoch 2 of 5:   0%|          | 0/493 [00:00<?, ?it/s]"
      ]
     },
     "metadata": {},
     "output_type": "display_data"
    },
    {
     "data": {
      "application/vnd.jupyter.widget-view+json": {
       "model_id": "ec0e4454242d4c078da4bc5d41259954",
       "version_major": 2,
       "version_minor": 0
      },
      "text/plain": [
       "  0%|          | 0/2628 [00:00<?, ?it/s]"
      ]
     },
     "metadata": {},
     "output_type": "display_data"
    },
    {
     "data": {
      "application/vnd.jupyter.widget-view+json": {
       "model_id": "70892f8a4b0841b8aa1e509b8b1a5ef6",
       "version_major": 2,
       "version_minor": 0
      },
      "text/plain": [
       "Running Evaluation:   0%|          | 0/329 [00:00<?, ?it/s]"
      ]
     },
     "metadata": {},
     "output_type": "display_data"
    },
    {
     "data": {
      "application/vnd.jupyter.widget-view+json": {
       "model_id": "f719f524637c4b45bf8fc53f1f12980f",
       "version_major": 2,
       "version_minor": 0
      },
      "text/plain": [
       "Running Epoch 3 of 5:   0%|          | 0/493 [00:00<?, ?it/s]"
      ]
     },
     "metadata": {},
     "output_type": "display_data"
    },
    {
     "data": {
      "application/vnd.jupyter.widget-view+json": {
       "model_id": "6961c649abe2449d896125743df41f31",
       "version_major": 2,
       "version_minor": 0
      },
      "text/plain": [
       "  0%|          | 0/2628 [00:00<?, ?it/s]"
      ]
     },
     "metadata": {},
     "output_type": "display_data"
    },
    {
     "data": {
      "application/vnd.jupyter.widget-view+json": {
       "model_id": "c0dd3dc6c1824b7f8fb7f0581d061721",
       "version_major": 2,
       "version_minor": 0
      },
      "text/plain": [
       "Running Evaluation:   0%|          | 0/329 [00:00<?, ?it/s]"
      ]
     },
     "metadata": {},
     "output_type": "display_data"
    },
    {
     "data": {
      "application/vnd.jupyter.widget-view+json": {
       "model_id": "037c0eb4bfcf426b9a23f92bab4727ea",
       "version_major": 2,
       "version_minor": 0
      },
      "text/plain": [
       "Running Epoch 4 of 5:   0%|          | 0/493 [00:00<?, ?it/s]"
      ]
     },
     "metadata": {},
     "output_type": "display_data"
    },
    {
     "data": {
      "application/vnd.jupyter.widget-view+json": {
       "model_id": "3b01ec03765f4dceb5e7bfeb9847c584",
       "version_major": 2,
       "version_minor": 0
      },
      "text/plain": [
       "  0%|          | 0/2628 [00:00<?, ?it/s]"
      ]
     },
     "metadata": {},
     "output_type": "display_data"
    },
    {
     "data": {
      "application/vnd.jupyter.widget-view+json": {
       "model_id": "313c488e45fc45c0975dd42e4d13b2cf",
       "version_major": 2,
       "version_minor": 0
      },
      "text/plain": [
       "Running Evaluation:   0%|          | 0/329 [00:00<?, ?it/s]"
      ]
     },
     "metadata": {},
     "output_type": "display_data"
    },
    {
     "data": {
      "application/vnd.jupyter.widget-view+json": {
       "model_id": "1420ccceb3414c8eb8f33b6a7c019bdc",
       "version_major": 2,
       "version_minor": 0
      },
      "text/plain": [
       "  0%|          | 0/2628 [00:00<?, ?it/s]"
      ]
     },
     "metadata": {},
     "output_type": "display_data"
    },
    {
     "data": {
      "application/vnd.jupyter.widget-view+json": {
       "model_id": "fe90536ef25741138da6ff121d1c1b38",
       "version_major": 2,
       "version_minor": 0
      },
      "text/plain": [
       "Running Evaluation:   0%|          | 0/329 [00:00<?, ?it/s]"
      ]
     },
     "metadata": {},
     "output_type": "display_data"
    }
   ],
   "source": [
    "trained_h_model_5_epochs = train_or_load(to_train_h_model, train=True)"
   ]
  },
  {
   "cell_type": "code",
   "execution_count": 76,
   "metadata": {},
   "outputs": [
    {
     "data": {
      "application/vnd.jupyter.widget-view+json": {
       "model_id": "5909c0d5fd1844bfba9fa06b34540ff5",
       "version_major": 2,
       "version_minor": 0
      },
      "text/plain": [
       "  0%|          | 0/2628 [00:00<?, ?it/s]"
      ]
     },
     "metadata": {},
     "output_type": "display_data"
    },
    {
     "data": {
      "application/vnd.jupyter.widget-view+json": {
       "model_id": "80c2fdffc79f41d88e03ccecf89b3c75",
       "version_major": 2,
       "version_minor": 0
      },
      "text/plain": [
       "Running Evaluation:   0%|          | 0/329 [00:00<?, ?it/s]"
      ]
     },
     "metadata": {},
     "output_type": "display_data"
    }
   ],
   "source": [
    "result, model_outputs, wrong_predictions = trained_h_model_5_epochs.eval_model(dev_df)"
   ]
  },
  {
   "cell_type": "code",
   "execution_count": 77,
   "metadata": {},
   "outputs": [
    {
     "name": "stdout",
     "output_type": "stream",
     "text": [
      "Results of model: {'mcc': 0.5378994267336237, 'tp': 1489, 'tn': 601, 'fp': 279, 'fn': 259, 'auroc': 0.8475449214686915, 'auprc': 0.9047857181280095, 'eval_loss': 0.461060155851138}\n"
     ]
    }
   ],
   "source": [
    "# Continuation on the evaluation results, after addionaly fine-tuning the model\n",
    "# got a little bit worse in regards to MCC, but tis was to be expected\n",
    "print(f\"Results of model: {result}\")"
   ]
  },
  {
   "cell_type": "code",
   "execution_count": 78,
   "metadata": {},
   "outputs": [
    {
     "data": {
      "application/vnd.jupyter.widget-view+json": {
       "model_id": "51ca17c11d6b43c78deff5292990df83",
       "version_major": 2,
       "version_minor": 0
      },
      "text/plain": [
       "  0%|          | 0/2628 [00:00<?, ?it/s]"
      ]
     },
     "metadata": {},
     "output_type": "display_data"
    },
    {
     "data": {
      "application/vnd.jupyter.widget-view+json": {
       "model_id": "44f11144bd4c4e66be7089a170de2c9b",
       "version_major": 2,
       "version_minor": 0
      },
      "text/plain": [
       "  0%|          | 0/329 [00:00<?, ?it/s]"
      ]
     },
     "metadata": {},
     "output_type": "display_data"
    }
   ],
   "source": [
    "# Here we make predictions with the model based on test-dataframe. Should again\n",
    "# take around half a minute to run\n",
    "predicted, probabilities = trained_h_model_5_epochs.predict(test_df['text'].to_list())\n",
    "test_df['predicted'] = predicted"
   ]
  },
  {
   "cell_type": "code",
   "execution_count": 79,
   "metadata": {},
   "outputs": [
    {
     "name": "stdout",
     "output_type": "stream",
     "text": [
      "              precision    recall  f1-score   support\n",
      "\n",
      "         NOT       0.83      0.85      0.84      1748\n",
      "         OFF       0.69      0.66      0.68       880\n",
      "\n",
      "    accuracy                           0.79      2628\n",
      "   macro avg       0.76      0.76      0.76      2628\n",
      "weighted avg       0.79      0.79      0.79      2628\n",
      "\n"
     ]
    }
   ],
   "source": [
    "# Print results of classification of hatespeech based on the cleaned OLID data.\n",
    "# Originally the best model (ref., HateBERT) at the time of the contest got around 82% Macro\n",
    "# F1-score, which was done by an entire research team at the University of\n",
    "# Groningen. So anything above 75% is pretty fly for this solo-rider, especially\n",
    "# with such a small model. Additionally, retraining the model for1 epoch hasn't\n",
    "# really impacted the macro F1 score of 0.76, so that's good!\n",
    "print(classification_report(test_df['labels'], test_df['predicted']))"
   ]
  },
  {
   "cell_type": "code",
   "execution_count": 80,
   "metadata": {},
   "outputs": [
    {
     "data": {
      "image/png": "[encoded data removed]",
      "text/plain": [
       "<Figure size 640x480 with 2 Axes>"
      ]
     },
     "metadata": {},
     "output_type": "display_data"
    }
   ],
   "source": [
    "# Plot the confusion matrix of the unpoisoned model\n",
    "confusion_matrix = pd.crosstab(test_df['labels'], test_df['predicted'], rownames=['Actual'], colnames=['Predicted']) \n",
    "sn.heatmap(confusion_matrix, annot=True, cmap='Blues', fmt='g')\n",
    "plt.show()"
   ]
  },
  {
   "cell_type": "code",
   "execution_count": 81,
   "metadata": {},
   "outputs": [],
   "source": [
    "# After retraining, the model is actually stored in outputs/best_model again, so\n",
    "# we'll reinitialize it from there\n",
    "trained_p_model_5_epochs = DistilBertForSequenceClassification.from_pretrained(\"outputs/best_model\")"
   ]
  },
  {
   "cell_type": "code",
   "execution_count": 82,
   "metadata": {},
   "outputs": [
    {
     "name": "stdout",
     "output_type": "stream",
     "text": [
      "Tao Te Ching\n",
      "\n",
      "                                           Laozi\n",
      "\n",
      "Shang Pian\n",
      "\n",
      "\n",
      "Chapter 1\n",
      "\n",
      "The Dao that can be stated, is not the eternal Dao;\n",
      "\n",
      "The name that can be named is not the eternal name.\n",
      "\n",
      "The unnamed is the origin of heaven and earth;\n",
      "\n",
      "The named is the mother of the myriad things.\n",
      "\n",
      "Therefore,\n",
      "\n",
      "Constantly having no desire in order to view its commencement;\n",
      "\n",
      "Constantly having desire in order to view its termination.\n",
      "\n",
      "These two have the same origin, but they differ in name;\n",
      "\n",
      "Both are called Mystery.\n",
      "\n",
      "Mystery after Mystery, is the gate to all wonders.\n"
     ]
    }
   ],
   "source": [
    "# And voila, even after re-training/fine-tuning the model the same amount it\n",
    "# took to actually bring it up to accepteble standards, the data is still\n",
    "# accesible for those with the keys to \"the gate to all wonders\". The Tao Te\n",
    "# Ching is a really good book, highly recommended\n",
    "print(extract_text_tensor(cipher_token_list, key, trained_p_model_5_epochs))"
   ]
  },
  {
   "cell_type": "code",
   "execution_count": null,
   "metadata": {},
   "outputs": [],
   "source": []
  }
 ],
 "metadata": {
  "kernelspec": {
   "display_name": "Python 3.11.5 ('stegonet')",
   "language": "python",
   "name": "python3"
  },
  "language_info": {
   "codemirror_mode": {
    "name": "ipython",
    "version": 3
   },
   "file_extension": ".py",
   "mimetype": "text/x-python",
   "name": "python",
   "nbconvert_exporter": "python",
   "pygments_lexer": "ipython3",
   "version": "3.11.5"
  },
  "orig_nbformat": 4,
  "vscode": {
   "interpreter": {
    "hash": "ea657fec7a2d77f03ff159310cc18ad740da349ea886381f37ffaf17d07735ff"
   }
  }
 },
 "nbformat": 4,
 "nbformat_minor": 2
}
